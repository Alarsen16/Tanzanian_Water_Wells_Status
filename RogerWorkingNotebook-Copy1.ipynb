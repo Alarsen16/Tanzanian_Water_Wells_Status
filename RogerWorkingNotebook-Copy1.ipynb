{
 "cells": [
  {
   "cell_type": "code",
   "execution_count": 1,
   "metadata": {},
   "outputs": [],
   "source": [
    "import pandas as pd\n",
    "df = pd.read_csv(\"Training_set_values.csv\")"
   ]
  },
  {
   "cell_type": "code",
   "execution_count": 2,
   "metadata": {},
   "outputs": [
    {
     "data": {
      "text/html": [
       "<div>\n",
       "<style scoped>\n",
       "    .dataframe tbody tr th:only-of-type {\n",
       "        vertical-align: middle;\n",
       "    }\n",
       "\n",
       "    .dataframe tbody tr th {\n",
       "        vertical-align: top;\n",
       "    }\n",
       "\n",
       "    .dataframe thead th {\n",
       "        text-align: right;\n",
       "    }\n",
       "</style>\n",
       "<table border=\"1\" class=\"dataframe\">\n",
       "  <thead>\n",
       "    <tr style=\"text-align: right;\">\n",
       "      <th></th>\n",
       "      <th>id</th>\n",
       "      <th>amount_tsh</th>\n",
       "      <th>date_recorded</th>\n",
       "      <th>funder</th>\n",
       "      <th>gps_height</th>\n",
       "      <th>installer</th>\n",
       "      <th>longitude</th>\n",
       "      <th>latitude</th>\n",
       "      <th>wpt_name</th>\n",
       "      <th>num_private</th>\n",
       "      <th>...</th>\n",
       "      <th>payment_type</th>\n",
       "      <th>water_quality</th>\n",
       "      <th>quality_group</th>\n",
       "      <th>quantity</th>\n",
       "      <th>quantity_group</th>\n",
       "      <th>source</th>\n",
       "      <th>source_type</th>\n",
       "      <th>source_class</th>\n",
       "      <th>waterpoint_type</th>\n",
       "      <th>waterpoint_type_group</th>\n",
       "    </tr>\n",
       "  </thead>\n",
       "  <tbody>\n",
       "    <tr>\n",
       "      <th>0</th>\n",
       "      <td>69572</td>\n",
       "      <td>6000.0</td>\n",
       "      <td>2011-03-14</td>\n",
       "      <td>Roman</td>\n",
       "      <td>1390</td>\n",
       "      <td>Roman</td>\n",
       "      <td>34.938093</td>\n",
       "      <td>-9.856322</td>\n",
       "      <td>none</td>\n",
       "      <td>0</td>\n",
       "      <td>...</td>\n",
       "      <td>annually</td>\n",
       "      <td>soft</td>\n",
       "      <td>good</td>\n",
       "      <td>enough</td>\n",
       "      <td>enough</td>\n",
       "      <td>spring</td>\n",
       "      <td>spring</td>\n",
       "      <td>groundwater</td>\n",
       "      <td>communal standpipe</td>\n",
       "      <td>communal standpipe</td>\n",
       "    </tr>\n",
       "    <tr>\n",
       "      <th>1</th>\n",
       "      <td>8776</td>\n",
       "      <td>0.0</td>\n",
       "      <td>2013-03-06</td>\n",
       "      <td>Grumeti</td>\n",
       "      <td>1399</td>\n",
       "      <td>GRUMETI</td>\n",
       "      <td>34.698766</td>\n",
       "      <td>-2.147466</td>\n",
       "      <td>Zahanati</td>\n",
       "      <td>0</td>\n",
       "      <td>...</td>\n",
       "      <td>never pay</td>\n",
       "      <td>soft</td>\n",
       "      <td>good</td>\n",
       "      <td>insufficient</td>\n",
       "      <td>insufficient</td>\n",
       "      <td>rainwater harvesting</td>\n",
       "      <td>rainwater harvesting</td>\n",
       "      <td>surface</td>\n",
       "      <td>communal standpipe</td>\n",
       "      <td>communal standpipe</td>\n",
       "    </tr>\n",
       "    <tr>\n",
       "      <th>2</th>\n",
       "      <td>34310</td>\n",
       "      <td>25.0</td>\n",
       "      <td>2013-02-25</td>\n",
       "      <td>Lottery Club</td>\n",
       "      <td>686</td>\n",
       "      <td>World vision</td>\n",
       "      <td>37.460664</td>\n",
       "      <td>-3.821329</td>\n",
       "      <td>Kwa Mahundi</td>\n",
       "      <td>0</td>\n",
       "      <td>...</td>\n",
       "      <td>per bucket</td>\n",
       "      <td>soft</td>\n",
       "      <td>good</td>\n",
       "      <td>enough</td>\n",
       "      <td>enough</td>\n",
       "      <td>dam</td>\n",
       "      <td>dam</td>\n",
       "      <td>surface</td>\n",
       "      <td>communal standpipe multiple</td>\n",
       "      <td>communal standpipe</td>\n",
       "    </tr>\n",
       "    <tr>\n",
       "      <th>3</th>\n",
       "      <td>67743</td>\n",
       "      <td>0.0</td>\n",
       "      <td>2013-01-28</td>\n",
       "      <td>Unicef</td>\n",
       "      <td>263</td>\n",
       "      <td>UNICEF</td>\n",
       "      <td>38.486161</td>\n",
       "      <td>-11.155298</td>\n",
       "      <td>Zahanati Ya Nanyumbu</td>\n",
       "      <td>0</td>\n",
       "      <td>...</td>\n",
       "      <td>never pay</td>\n",
       "      <td>soft</td>\n",
       "      <td>good</td>\n",
       "      <td>dry</td>\n",
       "      <td>dry</td>\n",
       "      <td>machine dbh</td>\n",
       "      <td>borehole</td>\n",
       "      <td>groundwater</td>\n",
       "      <td>communal standpipe multiple</td>\n",
       "      <td>communal standpipe</td>\n",
       "    </tr>\n",
       "    <tr>\n",
       "      <th>4</th>\n",
       "      <td>19728</td>\n",
       "      <td>0.0</td>\n",
       "      <td>2011-07-13</td>\n",
       "      <td>Action In A</td>\n",
       "      <td>0</td>\n",
       "      <td>Artisan</td>\n",
       "      <td>31.130847</td>\n",
       "      <td>-1.825359</td>\n",
       "      <td>Shuleni</td>\n",
       "      <td>0</td>\n",
       "      <td>...</td>\n",
       "      <td>never pay</td>\n",
       "      <td>soft</td>\n",
       "      <td>good</td>\n",
       "      <td>seasonal</td>\n",
       "      <td>seasonal</td>\n",
       "      <td>rainwater harvesting</td>\n",
       "      <td>rainwater harvesting</td>\n",
       "      <td>surface</td>\n",
       "      <td>communal standpipe</td>\n",
       "      <td>communal standpipe</td>\n",
       "    </tr>\n",
       "  </tbody>\n",
       "</table>\n",
       "<p>5 rows × 40 columns</p>\n",
       "</div>"
      ],
      "text/plain": [
       "      id  amount_tsh date_recorded        funder  gps_height     installer  \\\n",
       "0  69572      6000.0    2011-03-14         Roman        1390         Roman   \n",
       "1   8776         0.0    2013-03-06       Grumeti        1399       GRUMETI   \n",
       "2  34310        25.0    2013-02-25  Lottery Club         686  World vision   \n",
       "3  67743         0.0    2013-01-28        Unicef         263        UNICEF   \n",
       "4  19728         0.0    2011-07-13   Action In A           0       Artisan   \n",
       "\n",
       "   longitude   latitude              wpt_name  num_private  ... payment_type  \\\n",
       "0  34.938093  -9.856322                  none            0  ...     annually   \n",
       "1  34.698766  -2.147466              Zahanati            0  ...    never pay   \n",
       "2  37.460664  -3.821329           Kwa Mahundi            0  ...   per bucket   \n",
       "3  38.486161 -11.155298  Zahanati Ya Nanyumbu            0  ...    never pay   \n",
       "4  31.130847  -1.825359               Shuleni            0  ...    never pay   \n",
       "\n",
       "  water_quality quality_group      quantity  quantity_group  \\\n",
       "0          soft          good        enough          enough   \n",
       "1          soft          good  insufficient    insufficient   \n",
       "2          soft          good        enough          enough   \n",
       "3          soft          good           dry             dry   \n",
       "4          soft          good      seasonal        seasonal   \n",
       "\n",
       "                 source           source_type  source_class  \\\n",
       "0                spring                spring   groundwater   \n",
       "1  rainwater harvesting  rainwater harvesting       surface   \n",
       "2                   dam                   dam       surface   \n",
       "3           machine dbh              borehole   groundwater   \n",
       "4  rainwater harvesting  rainwater harvesting       surface   \n",
       "\n",
       "               waterpoint_type waterpoint_type_group  \n",
       "0           communal standpipe    communal standpipe  \n",
       "1           communal standpipe    communal standpipe  \n",
       "2  communal standpipe multiple    communal standpipe  \n",
       "3  communal standpipe multiple    communal standpipe  \n",
       "4           communal standpipe    communal standpipe  \n",
       "\n",
       "[5 rows x 40 columns]"
      ]
     },
     "execution_count": 2,
     "metadata": {},
     "output_type": "execute_result"
    }
   ],
   "source": [
    "df.head()"
   ]
  },
  {
   "cell_type": "code",
   "execution_count": 3,
   "metadata": {
    "scrolled": true
   },
   "outputs": [
    {
     "data": {
      "text/html": [
       "<div>\n",
       "<style scoped>\n",
       "    .dataframe tbody tr th:only-of-type {\n",
       "        vertical-align: middle;\n",
       "    }\n",
       "\n",
       "    .dataframe tbody tr th {\n",
       "        vertical-align: top;\n",
       "    }\n",
       "\n",
       "    .dataframe thead th {\n",
       "        text-align: right;\n",
       "    }\n",
       "</style>\n",
       "<table border=\"1\" class=\"dataframe\">\n",
       "  <thead>\n",
       "    <tr style=\"text-align: right;\">\n",
       "      <th></th>\n",
       "      <th>id</th>\n",
       "      <th>amount_tsh</th>\n",
       "      <th>date_recorded</th>\n",
       "      <th>funder</th>\n",
       "      <th>gps_height</th>\n",
       "      <th>installer</th>\n",
       "      <th>longitude</th>\n",
       "      <th>latitude</th>\n",
       "      <th>wpt_name</th>\n",
       "      <th>num_private</th>\n",
       "      <th>...</th>\n",
       "      <th>payment_type</th>\n",
       "      <th>water_quality</th>\n",
       "      <th>quality_group</th>\n",
       "      <th>quantity</th>\n",
       "      <th>quantity_group</th>\n",
       "      <th>source</th>\n",
       "      <th>source_type</th>\n",
       "      <th>source_class</th>\n",
       "      <th>waterpoint_type</th>\n",
       "      <th>waterpoint_type_group</th>\n",
       "    </tr>\n",
       "  </thead>\n",
       "  <tbody>\n",
       "    <tr>\n",
       "      <th>0</th>\n",
       "      <td>50785</td>\n",
       "      <td>0.0</td>\n",
       "      <td>2013-02-04</td>\n",
       "      <td>Dmdd</td>\n",
       "      <td>1996</td>\n",
       "      <td>DMDD</td>\n",
       "      <td>35.290799</td>\n",
       "      <td>-4.059696</td>\n",
       "      <td>Dinamu Secondary School</td>\n",
       "      <td>0</td>\n",
       "      <td>...</td>\n",
       "      <td>never pay</td>\n",
       "      <td>soft</td>\n",
       "      <td>good</td>\n",
       "      <td>seasonal</td>\n",
       "      <td>seasonal</td>\n",
       "      <td>rainwater harvesting</td>\n",
       "      <td>rainwater harvesting</td>\n",
       "      <td>surface</td>\n",
       "      <td>other</td>\n",
       "      <td>other</td>\n",
       "    </tr>\n",
       "    <tr>\n",
       "      <th>1</th>\n",
       "      <td>51630</td>\n",
       "      <td>0.0</td>\n",
       "      <td>2013-02-04</td>\n",
       "      <td>Government Of Tanzania</td>\n",
       "      <td>1569</td>\n",
       "      <td>DWE</td>\n",
       "      <td>36.656709</td>\n",
       "      <td>-3.309214</td>\n",
       "      <td>Kimnyak</td>\n",
       "      <td>0</td>\n",
       "      <td>...</td>\n",
       "      <td>never pay</td>\n",
       "      <td>soft</td>\n",
       "      <td>good</td>\n",
       "      <td>insufficient</td>\n",
       "      <td>insufficient</td>\n",
       "      <td>spring</td>\n",
       "      <td>spring</td>\n",
       "      <td>groundwater</td>\n",
       "      <td>communal standpipe</td>\n",
       "      <td>communal standpipe</td>\n",
       "    </tr>\n",
       "    <tr>\n",
       "      <th>2</th>\n",
       "      <td>17168</td>\n",
       "      <td>0.0</td>\n",
       "      <td>2013-02-01</td>\n",
       "      <td>NaN</td>\n",
       "      <td>1567</td>\n",
       "      <td>NaN</td>\n",
       "      <td>34.767863</td>\n",
       "      <td>-5.004344</td>\n",
       "      <td>Puma Secondary</td>\n",
       "      <td>0</td>\n",
       "      <td>...</td>\n",
       "      <td>never pay</td>\n",
       "      <td>soft</td>\n",
       "      <td>good</td>\n",
       "      <td>insufficient</td>\n",
       "      <td>insufficient</td>\n",
       "      <td>rainwater harvesting</td>\n",
       "      <td>rainwater harvesting</td>\n",
       "      <td>surface</td>\n",
       "      <td>other</td>\n",
       "      <td>other</td>\n",
       "    </tr>\n",
       "    <tr>\n",
       "      <th>3</th>\n",
       "      <td>45559</td>\n",
       "      <td>0.0</td>\n",
       "      <td>2013-01-22</td>\n",
       "      <td>Finn Water</td>\n",
       "      <td>267</td>\n",
       "      <td>FINN WATER</td>\n",
       "      <td>38.058046</td>\n",
       "      <td>-9.418672</td>\n",
       "      <td>Kwa Mzee Pange</td>\n",
       "      <td>0</td>\n",
       "      <td>...</td>\n",
       "      <td>unknown</td>\n",
       "      <td>soft</td>\n",
       "      <td>good</td>\n",
       "      <td>dry</td>\n",
       "      <td>dry</td>\n",
       "      <td>shallow well</td>\n",
       "      <td>shallow well</td>\n",
       "      <td>groundwater</td>\n",
       "      <td>other</td>\n",
       "      <td>other</td>\n",
       "    </tr>\n",
       "    <tr>\n",
       "      <th>4</th>\n",
       "      <td>49871</td>\n",
       "      <td>500.0</td>\n",
       "      <td>2013-03-27</td>\n",
       "      <td>Bruder</td>\n",
       "      <td>1260</td>\n",
       "      <td>BRUDER</td>\n",
       "      <td>35.006123</td>\n",
       "      <td>-10.950412</td>\n",
       "      <td>Kwa Mzee Turuka</td>\n",
       "      <td>0</td>\n",
       "      <td>...</td>\n",
       "      <td>monthly</td>\n",
       "      <td>soft</td>\n",
       "      <td>good</td>\n",
       "      <td>enough</td>\n",
       "      <td>enough</td>\n",
       "      <td>spring</td>\n",
       "      <td>spring</td>\n",
       "      <td>groundwater</td>\n",
       "      <td>communal standpipe</td>\n",
       "      <td>communal standpipe</td>\n",
       "    </tr>\n",
       "  </tbody>\n",
       "</table>\n",
       "<p>5 rows × 40 columns</p>\n",
       "</div>"
      ],
      "text/plain": [
       "      id  amount_tsh date_recorded                  funder  gps_height  \\\n",
       "0  50785         0.0    2013-02-04                    Dmdd        1996   \n",
       "1  51630         0.0    2013-02-04  Government Of Tanzania        1569   \n",
       "2  17168         0.0    2013-02-01                     NaN        1567   \n",
       "3  45559         0.0    2013-01-22              Finn Water         267   \n",
       "4  49871       500.0    2013-03-27                  Bruder        1260   \n",
       "\n",
       "    installer  longitude   latitude                 wpt_name  num_private  \\\n",
       "0        DMDD  35.290799  -4.059696  Dinamu Secondary School            0   \n",
       "1         DWE  36.656709  -3.309214                  Kimnyak            0   \n",
       "2         NaN  34.767863  -5.004344           Puma Secondary            0   \n",
       "3  FINN WATER  38.058046  -9.418672           Kwa Mzee Pange            0   \n",
       "4      BRUDER  35.006123 -10.950412          Kwa Mzee Turuka            0   \n",
       "\n",
       "   ... payment_type water_quality quality_group      quantity  quantity_group  \\\n",
       "0  ...    never pay          soft          good      seasonal        seasonal   \n",
       "1  ...    never pay          soft          good  insufficient    insufficient   \n",
       "2  ...    never pay          soft          good  insufficient    insufficient   \n",
       "3  ...      unknown          soft          good           dry             dry   \n",
       "4  ...      monthly          soft          good        enough          enough   \n",
       "\n",
       "                 source           source_type  source_class  \\\n",
       "0  rainwater harvesting  rainwater harvesting       surface   \n",
       "1                spring                spring   groundwater   \n",
       "2  rainwater harvesting  rainwater harvesting       surface   \n",
       "3          shallow well          shallow well   groundwater   \n",
       "4                spring                spring   groundwater   \n",
       "\n",
       "      waterpoint_type waterpoint_type_group  \n",
       "0               other                 other  \n",
       "1  communal standpipe    communal standpipe  \n",
       "2               other                 other  \n",
       "3               other                 other  \n",
       "4  communal standpipe    communal standpipe  \n",
       "\n",
       "[5 rows x 40 columns]"
      ]
     },
     "execution_count": 3,
     "metadata": {},
     "output_type": "execute_result"
    }
   ],
   "source": [
    "df1 = pd.read_csv(\"Test_set_values.csv\")\n",
    "df1.head()"
   ]
  },
  {
   "cell_type": "code",
   "execution_count": 4,
   "metadata": {},
   "outputs": [
    {
     "data": {
      "text/plain": [
       "59400"
      ]
     },
     "execution_count": 4,
     "metadata": {},
     "output_type": "execute_result"
    }
   ],
   "source": [
    "len(df)"
   ]
  },
  {
   "cell_type": "code",
   "execution_count": 5,
   "metadata": {},
   "outputs": [
    {
     "data": {
      "text/plain": [
       "14850"
      ]
     },
     "execution_count": 5,
     "metadata": {},
     "output_type": "execute_result"
    }
   ],
   "source": [
    "len(df1)"
   ]
  },
  {
   "cell_type": "code",
   "execution_count": 6,
   "metadata": {},
   "outputs": [
    {
     "data": {
      "text/plain": [
       "0.0         41639\n",
       "500.0        3102\n",
       "50.0         2472\n",
       "1000.0       1488\n",
       "20.0         1463\n",
       "            ...  \n",
       "8500.0          1\n",
       "6300.0          1\n",
       "220.0           1\n",
       "138000.0        1\n",
       "12.0            1\n",
       "Name: amount_tsh, Length: 98, dtype: int64"
      ]
     },
     "execution_count": 6,
     "metadata": {},
     "output_type": "execute_result"
    }
   ],
   "source": [
    "df['amount_tsh'].value_counts()"
   ]
  },
  {
   "cell_type": "code",
   "execution_count": 7,
   "metadata": {},
   "outputs": [
    {
     "data": {
      "text/html": [
       "<div>\n",
       "<style scoped>\n",
       "    .dataframe tbody tr th:only-of-type {\n",
       "        vertical-align: middle;\n",
       "    }\n",
       "\n",
       "    .dataframe tbody tr th {\n",
       "        vertical-align: top;\n",
       "    }\n",
       "\n",
       "    .dataframe thead th {\n",
       "        text-align: right;\n",
       "    }\n",
       "</style>\n",
       "<table border=\"1\" class=\"dataframe\">\n",
       "  <thead>\n",
       "    <tr style=\"text-align: right;\">\n",
       "      <th></th>\n",
       "      <th>id</th>\n",
       "      <th>status_group</th>\n",
       "    </tr>\n",
       "  </thead>\n",
       "  <tbody>\n",
       "    <tr>\n",
       "      <th>0</th>\n",
       "      <td>69572</td>\n",
       "      <td>functional</td>\n",
       "    </tr>\n",
       "    <tr>\n",
       "      <th>1</th>\n",
       "      <td>8776</td>\n",
       "      <td>functional</td>\n",
       "    </tr>\n",
       "    <tr>\n",
       "      <th>2</th>\n",
       "      <td>34310</td>\n",
       "      <td>functional</td>\n",
       "    </tr>\n",
       "    <tr>\n",
       "      <th>3</th>\n",
       "      <td>67743</td>\n",
       "      <td>non functional</td>\n",
       "    </tr>\n",
       "    <tr>\n",
       "      <th>4</th>\n",
       "      <td>19728</td>\n",
       "      <td>functional</td>\n",
       "    </tr>\n",
       "  </tbody>\n",
       "</table>\n",
       "</div>"
      ],
      "text/plain": [
       "      id    status_group\n",
       "0  69572      functional\n",
       "1   8776      functional\n",
       "2  34310      functional\n",
       "3  67743  non functional\n",
       "4  19728      functional"
      ]
     },
     "execution_count": 7,
     "metadata": {},
     "output_type": "execute_result"
    }
   ],
   "source": [
    "df2 = pd.read_csv('Training_set_labels.csv')\n",
    "df2.head()"
   ]
  },
  {
   "cell_type": "code",
   "execution_count": 8,
   "metadata": {},
   "outputs": [
    {
     "data": {
      "text/plain": [
       "59400"
      ]
     },
     "execution_count": 8,
     "metadata": {},
     "output_type": "execute_result"
    }
   ],
   "source": [
    "len(df2)"
   ]
  },
  {
   "cell_type": "code",
   "execution_count": 9,
   "metadata": {},
   "outputs": [
    {
     "data": {
      "text/plain": [
       "functional                 32259\n",
       "non functional             22824\n",
       "functional needs repair     4317\n",
       "Name: status_group, dtype: int64"
      ]
     },
     "execution_count": 9,
     "metadata": {},
     "output_type": "execute_result"
    }
   ],
   "source": [
    "df2['status_group'].value_counts()"
   ]
  },
  {
   "cell_type": "code",
   "execution_count": 10,
   "metadata": {},
   "outputs": [],
   "source": [
    "results = pd.merge(df, df2, how = 'inner', on = 'id'  )"
   ]
  },
  {
   "cell_type": "code",
   "execution_count": 11,
   "metadata": {},
   "outputs": [
    {
     "data": {
      "text/html": [
       "<div>\n",
       "<style scoped>\n",
       "    .dataframe tbody tr th:only-of-type {\n",
       "        vertical-align: middle;\n",
       "    }\n",
       "\n",
       "    .dataframe tbody tr th {\n",
       "        vertical-align: top;\n",
       "    }\n",
       "\n",
       "    .dataframe thead th {\n",
       "        text-align: right;\n",
       "    }\n",
       "</style>\n",
       "<table border=\"1\" class=\"dataframe\">\n",
       "  <thead>\n",
       "    <tr style=\"text-align: right;\">\n",
       "      <th></th>\n",
       "      <th>id</th>\n",
       "      <th>amount_tsh</th>\n",
       "      <th>date_recorded</th>\n",
       "      <th>funder</th>\n",
       "      <th>gps_height</th>\n",
       "      <th>installer</th>\n",
       "      <th>longitude</th>\n",
       "      <th>latitude</th>\n",
       "      <th>wpt_name</th>\n",
       "      <th>num_private</th>\n",
       "      <th>...</th>\n",
       "      <th>water_quality</th>\n",
       "      <th>quality_group</th>\n",
       "      <th>quantity</th>\n",
       "      <th>quantity_group</th>\n",
       "      <th>source</th>\n",
       "      <th>source_type</th>\n",
       "      <th>source_class</th>\n",
       "      <th>waterpoint_type</th>\n",
       "      <th>waterpoint_type_group</th>\n",
       "      <th>status_group</th>\n",
       "    </tr>\n",
       "  </thead>\n",
       "  <tbody>\n",
       "    <tr>\n",
       "      <th>0</th>\n",
       "      <td>69572</td>\n",
       "      <td>6000.0</td>\n",
       "      <td>2011-03-14</td>\n",
       "      <td>Roman</td>\n",
       "      <td>1390</td>\n",
       "      <td>Roman</td>\n",
       "      <td>34.938093</td>\n",
       "      <td>-9.856322</td>\n",
       "      <td>none</td>\n",
       "      <td>0</td>\n",
       "      <td>...</td>\n",
       "      <td>soft</td>\n",
       "      <td>good</td>\n",
       "      <td>enough</td>\n",
       "      <td>enough</td>\n",
       "      <td>spring</td>\n",
       "      <td>spring</td>\n",
       "      <td>groundwater</td>\n",
       "      <td>communal standpipe</td>\n",
       "      <td>communal standpipe</td>\n",
       "      <td>functional</td>\n",
       "    </tr>\n",
       "    <tr>\n",
       "      <th>1</th>\n",
       "      <td>8776</td>\n",
       "      <td>0.0</td>\n",
       "      <td>2013-03-06</td>\n",
       "      <td>Grumeti</td>\n",
       "      <td>1399</td>\n",
       "      <td>GRUMETI</td>\n",
       "      <td>34.698766</td>\n",
       "      <td>-2.147466</td>\n",
       "      <td>Zahanati</td>\n",
       "      <td>0</td>\n",
       "      <td>...</td>\n",
       "      <td>soft</td>\n",
       "      <td>good</td>\n",
       "      <td>insufficient</td>\n",
       "      <td>insufficient</td>\n",
       "      <td>rainwater harvesting</td>\n",
       "      <td>rainwater harvesting</td>\n",
       "      <td>surface</td>\n",
       "      <td>communal standpipe</td>\n",
       "      <td>communal standpipe</td>\n",
       "      <td>functional</td>\n",
       "    </tr>\n",
       "    <tr>\n",
       "      <th>2</th>\n",
       "      <td>34310</td>\n",
       "      <td>25.0</td>\n",
       "      <td>2013-02-25</td>\n",
       "      <td>Lottery Club</td>\n",
       "      <td>686</td>\n",
       "      <td>World vision</td>\n",
       "      <td>37.460664</td>\n",
       "      <td>-3.821329</td>\n",
       "      <td>Kwa Mahundi</td>\n",
       "      <td>0</td>\n",
       "      <td>...</td>\n",
       "      <td>soft</td>\n",
       "      <td>good</td>\n",
       "      <td>enough</td>\n",
       "      <td>enough</td>\n",
       "      <td>dam</td>\n",
       "      <td>dam</td>\n",
       "      <td>surface</td>\n",
       "      <td>communal standpipe multiple</td>\n",
       "      <td>communal standpipe</td>\n",
       "      <td>functional</td>\n",
       "    </tr>\n",
       "    <tr>\n",
       "      <th>3</th>\n",
       "      <td>67743</td>\n",
       "      <td>0.0</td>\n",
       "      <td>2013-01-28</td>\n",
       "      <td>Unicef</td>\n",
       "      <td>263</td>\n",
       "      <td>UNICEF</td>\n",
       "      <td>38.486161</td>\n",
       "      <td>-11.155298</td>\n",
       "      <td>Zahanati Ya Nanyumbu</td>\n",
       "      <td>0</td>\n",
       "      <td>...</td>\n",
       "      <td>soft</td>\n",
       "      <td>good</td>\n",
       "      <td>dry</td>\n",
       "      <td>dry</td>\n",
       "      <td>machine dbh</td>\n",
       "      <td>borehole</td>\n",
       "      <td>groundwater</td>\n",
       "      <td>communal standpipe multiple</td>\n",
       "      <td>communal standpipe</td>\n",
       "      <td>non functional</td>\n",
       "    </tr>\n",
       "    <tr>\n",
       "      <th>4</th>\n",
       "      <td>19728</td>\n",
       "      <td>0.0</td>\n",
       "      <td>2011-07-13</td>\n",
       "      <td>Action In A</td>\n",
       "      <td>0</td>\n",
       "      <td>Artisan</td>\n",
       "      <td>31.130847</td>\n",
       "      <td>-1.825359</td>\n",
       "      <td>Shuleni</td>\n",
       "      <td>0</td>\n",
       "      <td>...</td>\n",
       "      <td>soft</td>\n",
       "      <td>good</td>\n",
       "      <td>seasonal</td>\n",
       "      <td>seasonal</td>\n",
       "      <td>rainwater harvesting</td>\n",
       "      <td>rainwater harvesting</td>\n",
       "      <td>surface</td>\n",
       "      <td>communal standpipe</td>\n",
       "      <td>communal standpipe</td>\n",
       "      <td>functional</td>\n",
       "    </tr>\n",
       "  </tbody>\n",
       "</table>\n",
       "<p>5 rows × 41 columns</p>\n",
       "</div>"
      ],
      "text/plain": [
       "      id  amount_tsh date_recorded        funder  gps_height     installer  \\\n",
       "0  69572      6000.0    2011-03-14         Roman        1390         Roman   \n",
       "1   8776         0.0    2013-03-06       Grumeti        1399       GRUMETI   \n",
       "2  34310        25.0    2013-02-25  Lottery Club         686  World vision   \n",
       "3  67743         0.0    2013-01-28        Unicef         263        UNICEF   \n",
       "4  19728         0.0    2011-07-13   Action In A           0       Artisan   \n",
       "\n",
       "   longitude   latitude              wpt_name  num_private  ... water_quality  \\\n",
       "0  34.938093  -9.856322                  none            0  ...          soft   \n",
       "1  34.698766  -2.147466              Zahanati            0  ...          soft   \n",
       "2  37.460664  -3.821329           Kwa Mahundi            0  ...          soft   \n",
       "3  38.486161 -11.155298  Zahanati Ya Nanyumbu            0  ...          soft   \n",
       "4  31.130847  -1.825359               Shuleni            0  ...          soft   \n",
       "\n",
       "  quality_group      quantity  quantity_group                source  \\\n",
       "0          good        enough          enough                spring   \n",
       "1          good  insufficient    insufficient  rainwater harvesting   \n",
       "2          good        enough          enough                   dam   \n",
       "3          good           dry             dry           machine dbh   \n",
       "4          good      seasonal        seasonal  rainwater harvesting   \n",
       "\n",
       "            source_type source_class              waterpoint_type  \\\n",
       "0                spring  groundwater           communal standpipe   \n",
       "1  rainwater harvesting      surface           communal standpipe   \n",
       "2                   dam      surface  communal standpipe multiple   \n",
       "3              borehole  groundwater  communal standpipe multiple   \n",
       "4  rainwater harvesting      surface           communal standpipe   \n",
       "\n",
       "  waterpoint_type_group    status_group  \n",
       "0    communal standpipe      functional  \n",
       "1    communal standpipe      functional  \n",
       "2    communal standpipe      functional  \n",
       "3    communal standpipe  non functional  \n",
       "4    communal standpipe      functional  \n",
       "\n",
       "[5 rows x 41 columns]"
      ]
     },
     "execution_count": 11,
     "metadata": {},
     "output_type": "execute_result"
    }
   ],
   "source": [
    "results.head()"
   ]
  },
  {
   "cell_type": "code",
   "execution_count": 12,
   "metadata": {
    "scrolled": true
   },
   "outputs": [
    {
     "data": {
      "text/plain": [
       "soft                  50818\n",
       "salty                  4856\n",
       "unknown                1876\n",
       "milky                   804\n",
       "coloured                490\n",
       "salty abandoned         339\n",
       "fluoride                200\n",
       "fluoride abandoned       17\n",
       "Name: water_quality, dtype: int64"
      ]
     },
     "execution_count": 12,
     "metadata": {},
     "output_type": "execute_result"
    }
   ],
   "source": [
    "results['water_quality'].value_counts()"
   ]
  },
  {
   "cell_type": "code",
   "execution_count": 13,
   "metadata": {
    "scrolled": true
   },
   "outputs": [
    {
     "data": {
      "text/plain": [
       "status_group           \n",
       "functional                 151\n",
       "non functional              36\n",
       "functional needs repair     13\n",
       "dtype: int64"
      ]
     },
     "execution_count": 13,
     "metadata": {},
     "output_type": "execute_result"
    }
   ],
   "source": [
    "results.loc[results['water_quality']== 'fluoride', ['status_group']].value_counts()"
   ]
  },
  {
   "cell_type": "code",
   "execution_count": 14,
   "metadata": {
    "scrolled": true
   },
   "outputs": [
    {
     "data": {
      "text/plain": [
       "status_group           \n",
       "functional                 28760\n",
       "non functional             18154\n",
       "functional needs repair     3904\n",
       "dtype: int64"
      ]
     },
     "execution_count": 14,
     "metadata": {},
     "output_type": "execute_result"
    }
   ],
   "source": [
    "results.loc[results['water_quality']== 'soft', ['status_group']].value_counts()"
   ]
  },
  {
   "cell_type": "code",
   "execution_count": 15,
   "metadata": {
    "scrolled": true
   },
   "outputs": [
    {
     "data": {
      "text/plain": [
       "status_group           \n",
       "non functional             2411\n",
       "functional                 2220\n",
       "functional needs repair     225\n",
       "dtype: int64"
      ]
     },
     "execution_count": 15,
     "metadata": {},
     "output_type": "execute_result"
    }
   ],
   "source": [
    "results.loc[results['water_quality']== 'salty', ['status_group']].value_counts()"
   ]
  },
  {
   "cell_type": "code",
   "execution_count": 16,
   "metadata": {
    "scrolled": true
   },
   "outputs": [
    {
     "data": {
      "text/plain": [
       "status_group           \n",
       "functional                 438\n",
       "non functional             352\n",
       "functional needs repair     14\n",
       "dtype: int64"
      ]
     },
     "execution_count": 16,
     "metadata": {},
     "output_type": "execute_result"
    }
   ],
   "source": [
    "results.loc[results['water_quality']== 'milky', ['status_group']].value_counts()"
   ]
  },
  {
   "cell_type": "code",
   "execution_count": 17,
   "metadata": {},
   "outputs": [
    {
     "data": {
      "text/plain": [
       "status_group           \n",
       "functional                 246\n",
       "non functional             190\n",
       "functional needs repair     54\n",
       "dtype: int64"
      ]
     },
     "execution_count": 17,
     "metadata": {},
     "output_type": "execute_result"
    }
   ],
   "source": [
    "results.loc[results['water_quality']== 'coloured', ['status_group']].value_counts()"
   ]
  },
  {
   "cell_type": "code",
   "execution_count": 18,
   "metadata": {},
   "outputs": [],
   "source": [
    "from sklearn.preprocessing import OneHotEncoder\n",
    "def onehotencoder(column_name, df):\n",
    "    column_name_ohe = df[[column_name]]\n",
    "    ohe = OneHotEncoder(categories = 'auto', sparse = False)\n",
    "    ohe.fit(column_name_ohe)\n",
    "    column_transformed = ohe.transform(column_name_ohe)\n",
    "    column_encoded_ohe = pd.DataFrame(column_transformed, columns = ohe.get_feature_names([column_name]), index = df.index)\n",
    "    return column_encoded_ohe"
   ]
  },
  {
   "cell_type": "code",
   "execution_count": 19,
   "metadata": {},
   "outputs": [
    {
     "data": {
      "text/plain": [
       "True     38852\n",
       "False    17492\n",
       "Name: permit, dtype: int64"
      ]
     },
     "execution_count": 19,
     "metadata": {},
     "output_type": "execute_result"
    }
   ],
   "source": [
    "results['permit'].value_counts()"
   ]
  },
  {
   "cell_type": "code",
   "execution_count": 20,
   "metadata": {},
   "outputs": [
    {
     "data": {
      "text/plain": [
       "status_group           \n",
       "functional                 21541\n",
       "non functional             14614\n",
       "functional needs repair     2697\n",
       "dtype: int64"
      ]
     },
     "execution_count": 20,
     "metadata": {},
     "output_type": "execute_result"
    }
   ],
   "source": [
    "results.loc[(results['permit'] == True),['status_group']].value_counts()"
   ]
  },
  {
   "cell_type": "code",
   "execution_count": 21,
   "metadata": {},
   "outputs": [
    {
     "data": {
      "text/plain": [
       "status_group           \n",
       "functional                 9045\n",
       "non functional             7127\n",
       "functional needs repair    1320\n",
       "dtype: int64"
      ]
     },
     "execution_count": 21,
     "metadata": {},
     "output_type": "execute_result"
    }
   ],
   "source": [
    "results.loc[(results['permit'] == False),['status_group']].value_counts()"
   ]
  },
  {
   "cell_type": "code",
   "execution_count": 22,
   "metadata": {},
   "outputs": [],
   "source": [
    "# amount. gps, lat.lomg , comnst, pay, qualit, soucr, wat, per quant, id"
   ]
  },
  {
   "cell_type": "code",
   "execution_count": 23,
   "metadata": {},
   "outputs": [
    {
     "data": {
      "text/plain": [
       "Index(['id', 'amount_tsh', 'date_recorded', 'funder', 'gps_height',\n",
       "       'installer', 'longitude', 'latitude', 'wpt_name', 'num_private',\n",
       "       'basin', 'subvillage', 'region', 'region_code', 'district_code', 'lga',\n",
       "       'ward', 'population', 'public_meeting', 'recorded_by',\n",
       "       'scheme_management', 'scheme_name', 'permit', 'construction_year',\n",
       "       'extraction_type', 'extraction_type_group', 'extraction_type_class',\n",
       "       'management', 'management_group', 'payment', 'payment_type',\n",
       "       'water_quality', 'quality_group', 'quantity', 'quantity_group',\n",
       "       'source', 'source_type', 'source_class', 'waterpoint_type',\n",
       "       'waterpoint_type_group', 'status_group'],\n",
       "      dtype='object')"
      ]
     },
     "execution_count": 23,
     "metadata": {},
     "output_type": "execute_result"
    }
   ],
   "source": [
    "results.columns"
   ]
  },
  {
   "cell_type": "code",
   "execution_count": 24,
   "metadata": {},
   "outputs": [
    {
     "data": {
      "text/plain": [
       "2011-03-15    572\n",
       "2011-03-17    558\n",
       "2013-02-03    546\n",
       "2011-03-14    520\n",
       "2011-03-16    513\n",
       "             ... \n",
       "2011-09-28      1\n",
       "2011-09-12      1\n",
       "2004-04-01      1\n",
       "2013-12-01      1\n",
       "2012-01-21      1\n",
       "Name: date_recorded, Length: 356, dtype: int64"
      ]
     },
     "execution_count": 24,
     "metadata": {},
     "output_type": "execute_result"
    }
   ],
   "source": [
    "results['date_recorded'].value_counts()\n",
    "# dates recorded shows when the information was taken and so not very useful since it gives no \n",
    "# updates on whether the pump was worked on or not. therefore dropped"
   ]
  },
  {
   "cell_type": "code",
   "execution_count": 25,
   "metadata": {},
   "outputs": [
    {
     "data": {
      "text/plain": [
       "Government Of Tanzania    9084\n",
       "Danida                    3114\n",
       "Hesawa                    2202\n",
       "Rwssp                     1374\n",
       "World Bank                1349\n",
       "                          ... \n",
       "Leopad Abeid                 1\n",
       "Muslim World                 1\n",
       "Rdws                         1\n",
       "Samweli Mshosha              1\n",
       "Kigwa                        1\n",
       "Name: funder, Length: 1897, dtype: int64"
      ]
     },
     "execution_count": 25,
     "metadata": {},
     "output_type": "execute_result"
    }
   ],
   "source": [
    "results['funder'].value_counts()"
   ]
  },
  {
   "cell_type": "code",
   "execution_count": 26,
   "metadata": {},
   "outputs": [
    {
     "data": {
      "text/plain": [
       "status_group           \n",
       "non functional             4663\n",
       "functional                 3720\n",
       "functional needs repair     701\n",
       "dtype: int64"
      ]
     },
     "execution_count": 26,
     "metadata": {},
     "output_type": "execute_result"
    }
   ],
   "source": [
    "results.loc[(results['funder'] == 'Government Of Tanzania'),['status_group']].value_counts()"
   ]
  },
  {
   "cell_type": "code",
   "execution_count": 27,
   "metadata": {},
   "outputs": [
    {
     "data": {
      "text/plain": [
       "status_group           \n",
       "functional                 1713\n",
       "non functional             1242\n",
       "functional needs repair     159\n",
       "dtype: int64"
      ]
     },
     "execution_count": 27,
     "metadata": {},
     "output_type": "execute_result"
    }
   ],
   "source": [
    "results.loc[(results['funder'] == 'Danida'),['status_group']].value_counts()"
   ]
  },
  {
   "cell_type": "code",
   "execution_count": 28,
   "metadata": {},
   "outputs": [
    {
     "data": {
      "text/plain": [
       "status_group           \n",
       "non functional             1034\n",
       "functional                  936\n",
       "functional needs repair     232\n",
       "dtype: int64"
      ]
     },
     "execution_count": 28,
     "metadata": {},
     "output_type": "execute_result"
    }
   ],
   "source": [
    "results.loc[(results['funder'] == 'Hesawa'),['status_group']].value_counts()"
   ]
  },
  {
   "cell_type": "code",
   "execution_count": 29,
   "metadata": {},
   "outputs": [
    {
     "data": {
      "text/plain": [
       "Lake Victoria              10248\n",
       "Pangani                     8940\n",
       "Rufiji                      7976\n",
       "Internal                    7785\n",
       "Lake Tanganyika             6432\n",
       "Wami / Ruvu                 5987\n",
       "Lake Nyasa                  5085\n",
       "Ruvuma / Southern Coast     4493\n",
       "Lake Rukwa                  2454\n",
       "Name: basin, dtype: int64"
      ]
     },
     "execution_count": 29,
     "metadata": {},
     "output_type": "execute_result"
    }
   ],
   "source": [
    "results['basin'].value_counts()"
   ]
  },
  {
   "cell_type": "code",
   "execution_count": 30,
   "metadata": {
    "scrolled": true
   },
   "outputs": [
    {
     "data": {
      "text/plain": [
       "Iringa           5294\n",
       "Shinyanga        4982\n",
       "Mbeya            4639\n",
       "Kilimanjaro      4379\n",
       "Morogoro         4006\n",
       "Arusha           3350\n",
       "Kagera           3316\n",
       "Mwanza           3102\n",
       "Kigoma           2816\n",
       "Ruvuma           2640\n",
       "Pwani            2635\n",
       "Tanga            2547\n",
       "Dodoma           2201\n",
       "Singida          2093\n",
       "Mara             1969\n",
       "Tabora           1959\n",
       "Rukwa            1808\n",
       "Mtwara           1730\n",
       "Manyara          1583\n",
       "Lindi            1546\n",
       "Dar es Salaam     805\n",
       "Name: region, dtype: int64"
      ]
     },
     "execution_count": 30,
     "metadata": {},
     "output_type": "execute_result"
    }
   ],
   "source": [
    "results['region'].value_counts()"
   ]
  },
  {
   "cell_type": "code",
   "execution_count": 31,
   "metadata": {},
   "outputs": [
    {
     "data": {
      "text/plain": [
       "11    5300\n",
       "17    5011\n",
       "12    4639\n",
       "3     4379\n",
       "5     4040\n",
       "18    3324\n",
       "19    3047\n",
       "2     3024\n",
       "16    2816\n",
       "10    2640\n",
       "4     2513\n",
       "1     2201\n",
       "13    2093\n",
       "14    1979\n",
       "20    1969\n",
       "15    1808\n",
       "6     1609\n",
       "21    1583\n",
       "80    1238\n",
       "60    1025\n",
       "90     917\n",
       "7      805\n",
       "99     423\n",
       "9      390\n",
       "24     326\n",
       "8      300\n",
       "40       1\n",
       "Name: region_code, dtype: int64"
      ]
     },
     "execution_count": 31,
     "metadata": {},
     "output_type": "execute_result"
    }
   ],
   "source": [
    "results['region_code'].value_counts()"
   ]
  },
  {
   "cell_type": "code",
   "execution_count": 32,
   "metadata": {
    "scrolled": true
   },
   "outputs": [
    {
     "data": {
      "text/plain": [
       "array(['Ludewa', 'Serengeti', 'Simanjiro', 'Nanyumbu', 'Karagwe',\n",
       "       'Mkinga', 'Shinyanga Rural', 'Kahama', 'Tabora Urban', 'Mkuranga',\n",
       "       'Namtumbo', 'Maswa', 'Siha', 'Meatu', 'Sumbawanga Rural', 'Njombe',\n",
       "       'Ukerewe', 'Bariadi', 'Same', 'Kigoma Rural', 'Moshi Rural',\n",
       "       'Lindi Rural', 'Rombo', 'Chamwino', 'Bagamoyo', 'Mafia',\n",
       "       'Arusha Rural', 'Kyela', 'Kondoa', 'Kilolo', 'Kibondo', 'Makete',\n",
       "       'Singida Rural', 'Masasi', 'Rungwe', 'Moshi Urban', 'Geita',\n",
       "       'Mbulu', 'Bukoba Rural', 'Muheza', 'Lushoto', 'Meru', 'Iramba',\n",
       "       'Kilombero', 'Mbarali', 'Kasulu', 'Bukoba Urban', 'Korogwe',\n",
       "       'Bukombe', 'Morogoro Rural', 'Kishapu', 'Musoma Rural',\n",
       "       'Sengerema', 'Iringa Rural', 'Muleba', 'Dodoma Urban', 'Ruangwa',\n",
       "       'Hanang', 'Misenyi', 'Missungwi', 'Songea Rural', 'Tanga',\n",
       "       'Tunduru', 'Hai', 'Mwanga', 'Chato', 'Biharamulo', 'Ileje',\n",
       "       'Mpwapwa', 'Mvomero', 'Bunda', 'Kiteto', 'Longido', 'Urambo',\n",
       "       'Mbozi', 'Sikonge', 'Ilala', 'Tarime', 'Temeke', 'Mbeya Rural',\n",
       "       'Magu', 'Manyoni', 'Igunga', 'Kilosa', 'Babati', 'Chunya',\n",
       "       'Mufindi', 'Mtwara Rural', 'Ngara', 'Karatu', 'Mpanda', 'Kibaha',\n",
       "       'Singida Urban', 'Newala', 'Nzega', 'Nkasi', 'Bahi', 'Mbinga',\n",
       "       'Ulanga', 'Sumbawanga Urban', 'Morogoro Urban', 'Tandahimba',\n",
       "       'Kisarawe', 'Mtwara Urban', 'Kilwa', 'Liwale', 'Kongwa', 'Uyui',\n",
       "       'Rufiji', 'Kwimba', 'Monduli', 'Shinyanga Urban', 'Ngorongoro',\n",
       "       'Handeni', 'Rorya', 'Pangani', 'Lindi Urban', 'Nachingwea',\n",
       "       'Kinondoni', 'Kigoma Urban', 'Ilemela', 'Kilindi', 'Arusha Urban',\n",
       "       'Songea Urban', 'Nyamagana'], dtype=object)"
      ]
     },
     "execution_count": 32,
     "metadata": {},
     "output_type": "execute_result"
    }
   ],
   "source": [
    "results['lga'].unique()"
   ]
  },
  {
   "cell_type": "code",
   "execution_count": 33,
   "metadata": {},
   "outputs": [
    {
     "data": {
      "text/plain": [
       "0       21381\n",
       "1        7025\n",
       "200      1940\n",
       "150      1892\n",
       "250      1681\n",
       "        ...  \n",
       "3241        1\n",
       "1960        1\n",
       "1685        1\n",
       "2248        1\n",
       "1439        1\n",
       "Name: population, Length: 1049, dtype: int64"
      ]
     },
     "execution_count": 33,
     "metadata": {},
     "output_type": "execute_result"
    }
   ],
   "source": [
    "results['population'].value_counts()"
   ]
  },
  {
   "cell_type": "code",
   "execution_count": 34,
   "metadata": {},
   "outputs": [
    {
     "data": {
      "text/plain": [
       "status_group           \n",
       "functional                 11274\n",
       "non functional              8332\n",
       "functional needs repair     1775\n",
       "dtype: int64"
      ]
     },
     "execution_count": 34,
     "metadata": {},
     "output_type": "execute_result"
    }
   ],
   "source": [
    "results.loc[(results['population'] == 0),['status_group']].value_counts()"
   ]
  },
  {
   "cell_type": "code",
   "execution_count": 35,
   "metadata": {},
   "outputs": [
    {
     "data": {
      "text/plain": [
       "vwc                 40507\n",
       "wug                  6515\n",
       "water board          2933\n",
       "wua                  2535\n",
       "private operator     1971\n",
       "parastatal           1768\n",
       "water authority       904\n",
       "other                 844\n",
       "company               685\n",
       "unknown               561\n",
       "other - school         99\n",
       "trust                  78\n",
       "Name: management, dtype: int64"
      ]
     },
     "execution_count": 35,
     "metadata": {},
     "output_type": "execute_result"
    }
   ],
   "source": [
    "results['management'].value_counts()"
   ]
  },
  {
   "cell_type": "code",
   "execution_count": 36,
   "metadata": {},
   "outputs": [
    {
     "data": {
      "text/plain": [
       "status_group           \n",
       "functional                 20425\n",
       "non functional             17291\n",
       "functional needs repair     2791\n",
       "dtype: int64"
      ]
     },
     "execution_count": 36,
     "metadata": {},
     "output_type": "execute_result"
    }
   ],
   "source": [
    "results.loc[(results['management'] == 'vwc'),['status_group']].value_counts()"
   ]
  },
  {
   "cell_type": "code",
   "execution_count": 37,
   "metadata": {},
   "outputs": [
    {
     "data": {
      "text/plain": [
       "gravity                      26780\n",
       "nira/tanira                   8154\n",
       "other                         6430\n",
       "submersible                   4764\n",
       "swn 80                        3670\n",
       "mono                          2865\n",
       "india mark ii                 2400\n",
       "afridev                       1770\n",
       "ksb                           1415\n",
       "other - rope pump              451\n",
       "other - swn 81                 229\n",
       "windmill                       117\n",
       "india mark iii                  98\n",
       "cemo                            90\n",
       "other - play pump               85\n",
       "walimi                          48\n",
       "climax                          32\n",
       "other - mkulima/shinyanga        2\n",
       "Name: extraction_type, dtype: int64"
      ]
     },
     "execution_count": 37,
     "metadata": {},
     "output_type": "execute_result"
    }
   ],
   "source": [
    "results['extraction_type'].value_counts()"
   ]
  },
  {
   "cell_type": "code",
   "execution_count": 38,
   "metadata": {},
   "outputs": [
    {
     "data": {
      "text/plain": [
       "gravity            26780\n",
       "nira/tanira         8154\n",
       "other               6430\n",
       "submersible         6179\n",
       "swn 80              3670\n",
       "mono                2865\n",
       "india mark ii       2400\n",
       "afridev             1770\n",
       "rope pump            451\n",
       "other handpump       364\n",
       "other motorpump      122\n",
       "wind-powered         117\n",
       "india mark iii        98\n",
       "Name: extraction_type_group, dtype: int64"
      ]
     },
     "execution_count": 38,
     "metadata": {},
     "output_type": "execute_result"
    }
   ],
   "source": [
    "results['extraction_type_group'].value_counts()"
   ]
  },
  {
   "cell_type": "code",
   "execution_count": 39,
   "metadata": {},
   "outputs": [
    {
     "data": {
      "text/plain": [
       "gravity         26780\n",
       "handpump        16456\n",
       "other            6430\n",
       "submersible      6179\n",
       "motorpump        2987\n",
       "rope pump         451\n",
       "wind-powered      117\n",
       "Name: extraction_type_class, dtype: int64"
      ]
     },
     "execution_count": 39,
     "metadata": {},
     "output_type": "execute_result"
    }
   ],
   "source": [
    "results['extraction_type_class'].value_counts()"
   ]
  },
  {
   "cell_type": "code",
   "execution_count": 40,
   "metadata": {},
   "outputs": [
    {
     "data": {
      "text/plain": [
       "status_group           \n",
       "functional                 16048\n",
       "non functional              8031\n",
       "functional needs repair     2701\n",
       "dtype: int64"
      ]
     },
     "execution_count": 40,
     "metadata": {},
     "output_type": "execute_result"
    }
   ],
   "source": [
    "results.loc[(results['extraction_type_class'] == 'gravity'),['status_group']].value_counts()"
   ]
  },
  {
   "cell_type": "code",
   "execution_count": 41,
   "metadata": {
    "scrolled": true
   },
   "outputs": [
    {
     "data": {
      "text/plain": [
       "VWC                 36793\n",
       "WUG                  5206\n",
       "Water authority      3153\n",
       "WUA                  2883\n",
       "Water Board          2748\n",
       "Parastatal           1680\n",
       "Private operator     1063\n",
       "Company              1061\n",
       "Other                 766\n",
       "SWC                    97\n",
       "Trust                  72\n",
       "None                    1\n",
       "Name: scheme_management, dtype: int64"
      ]
     },
     "execution_count": 41,
     "metadata": {},
     "output_type": "execute_result"
    }
   ],
   "source": [
    "results['scheme_management'].value_counts()"
   ]
  },
  {
   "cell_type": "code",
   "execution_count": 42,
   "metadata": {
    "scrolled": true
   },
   "outputs": [
    {
     "data": {
      "text/plain": [
       "vwc                 40507\n",
       "wug                  6515\n",
       "water board          2933\n",
       "wua                  2535\n",
       "private operator     1971\n",
       "parastatal           1768\n",
       "water authority       904\n",
       "other                 844\n",
       "company               685\n",
       "unknown               561\n",
       "other - school         99\n",
       "trust                  78\n",
       "Name: management, dtype: int64"
      ]
     },
     "execution_count": 42,
     "metadata": {},
     "output_type": "execute_result"
    }
   ],
   "source": [
    "results['management'].value_counts()"
   ]
  },
  {
   "cell_type": "code",
   "execution_count": 43,
   "metadata": {},
   "outputs": [],
   "source": [
    "# replacing_dictionary = {'VWC': 'vwc' , 'WUG': 'wug', 'Water '}"
   ]
  },
  {
   "cell_type": "code",
   "execution_count": 44,
   "metadata": {},
   "outputs": [
    {
     "data": {
      "text/plain": [
       "Series([], dtype: int64)"
      ]
     },
     "execution_count": 44,
     "metadata": {},
     "output_type": "execute_result"
    }
   ],
   "source": [
    "results.loc[(results['scheme_management'] == ''),['status_group']].value_counts()"
   ]
  },
  {
   "cell_type": "code",
   "execution_count": 45,
   "metadata": {},
   "outputs": [
    {
     "data": {
      "text/plain": [
       "never pay                25348\n",
       "pay per bucket            8985\n",
       "pay monthly               8300\n",
       "unknown                   8157\n",
       "pay when scheme fails     3914\n",
       "pay annually              3642\n",
       "other                     1054\n",
       "Name: payment, dtype: int64"
      ]
     },
     "execution_count": 45,
     "metadata": {},
     "output_type": "execute_result"
    }
   ],
   "source": [
    "results['payment'].value_counts()"
   ]
  },
  {
   "cell_type": "code",
   "execution_count": 46,
   "metadata": {},
   "outputs": [
    {
     "data": {
      "text/plain": [
       "status_group           \n",
       "non functional             12062\n",
       "functional                 11379\n",
       "functional needs repair     1907\n",
       "dtype: int64"
      ]
     },
     "execution_count": 46,
     "metadata": {},
     "output_type": "execute_result"
    }
   ],
   "source": [
    "results.loc[(results['payment'] == 'never pay'),['status_group']].value_counts()"
   ]
  },
  {
   "cell_type": "code",
   "execution_count": 47,
   "metadata": {},
   "outputs": [
    {
     "data": {
      "text/plain": [
       "never pay     25348\n",
       "per bucket     8985\n",
       "monthly        8300\n",
       "unknown        8157\n",
       "on failure     3914\n",
       "annually       3642\n",
       "other          1054\n",
       "Name: payment_type, dtype: int64"
      ]
     },
     "execution_count": 47,
     "metadata": {},
     "output_type": "execute_result"
    }
   ],
   "source": [
    "results['payment_type'].value_counts() #same as payment"
   ]
  },
  {
   "cell_type": "code",
   "execution_count": 48,
   "metadata": {},
   "outputs": [
    {
     "data": {
      "text/plain": [
       "soft                  50818\n",
       "salty                  4856\n",
       "unknown                1876\n",
       "milky                   804\n",
       "coloured                490\n",
       "salty abandoned         339\n",
       "fluoride                200\n",
       "fluoride abandoned       17\n",
       "Name: water_quality, dtype: int64"
      ]
     },
     "execution_count": 48,
     "metadata": {},
     "output_type": "execute_result"
    }
   ],
   "source": [
    "results['water_quality'].value_counts()"
   ]
  },
  {
   "cell_type": "code",
   "execution_count": 49,
   "metadata": {},
   "outputs": [
    {
     "data": {
      "text/plain": [
       "status_group           \n",
       "functional                 28760\n",
       "non functional             18154\n",
       "functional needs repair     3904\n",
       "dtype: int64"
      ]
     },
     "execution_count": 49,
     "metadata": {},
     "output_type": "execute_result"
    }
   ],
   "source": [
    "results.loc[(results['water_quality'] == 'soft'),['status_group']].value_counts()"
   ]
  },
  {
   "cell_type": "code",
   "execution_count": 50,
   "metadata": {},
   "outputs": [
    {
     "data": {
      "text/plain": [
       "good        50818\n",
       "salty        5195\n",
       "unknown      1876\n",
       "milky         804\n",
       "colored       490\n",
       "fluoride      217\n",
       "Name: quality_group, dtype: int64"
      ]
     },
     "execution_count": 50,
     "metadata": {},
     "output_type": "execute_result"
    }
   ],
   "source": [
    "results['quality_group'].value_counts()"
   ]
  },
  {
   "cell_type": "code",
   "execution_count": 51,
   "metadata": {},
   "outputs": [
    {
     "data": {
      "text/plain": [
       "spring                  17021\n",
       "shallow well            16824\n",
       "machine dbh             11075\n",
       "river                    9612\n",
       "rainwater harvesting     2295\n",
       "hand dtw                  874\n",
       "lake                      765\n",
       "dam                       656\n",
       "other                     212\n",
       "unknown                    66\n",
       "Name: source, dtype: int64"
      ]
     },
     "execution_count": 51,
     "metadata": {},
     "output_type": "execute_result"
    }
   ],
   "source": [
    "results['source'].value_counts()"
   ]
  },
  {
   "cell_type": "code",
   "execution_count": 52,
   "metadata": {},
   "outputs": [
    {
     "data": {
      "text/plain": [
       "status_group           \n",
       "functional                 10592\n",
       "non functional              5153\n",
       "functional needs repair     1276\n",
       "dtype: int64"
      ]
     },
     "execution_count": 52,
     "metadata": {},
     "output_type": "execute_result"
    }
   ],
   "source": [
    "results.loc[(results['source'] == 'spring'),['status_group']].value_counts()"
   ]
  },
  {
   "cell_type": "code",
   "execution_count": 53,
   "metadata": {},
   "outputs": [
    {
     "data": {
      "text/plain": [
       "spring                  17021\n",
       "shallow well            16824\n",
       "borehole                11949\n",
       "river/lake              10377\n",
       "rainwater harvesting     2295\n",
       "dam                       656\n",
       "other                     278\n",
       "Name: source_type, dtype: int64"
      ]
     },
     "execution_count": 53,
     "metadata": {},
     "output_type": "execute_result"
    }
   ],
   "source": [
    "results['source_type'].value_counts()"
   ]
  },
  {
   "cell_type": "code",
   "execution_count": 54,
   "metadata": {},
   "outputs": [
    {
     "data": {
      "text/plain": [
       "groundwater    45794\n",
       "surface        13328\n",
       "unknown          278\n",
       "Name: source_class, dtype: int64"
      ]
     },
     "execution_count": 54,
     "metadata": {},
     "output_type": "execute_result"
    }
   ],
   "source": [
    "results['source_class'].value_counts()"
   ]
  },
  {
   "cell_type": "code",
   "execution_count": 55,
   "metadata": {},
   "outputs": [
    {
     "data": {
      "text/plain": [
       "status_group           \n",
       "functional                 24835\n",
       "non functional             18218\n",
       "functional needs repair     2741\n",
       "dtype: int64"
      ]
     },
     "execution_count": 55,
     "metadata": {},
     "output_type": "execute_result"
    }
   ],
   "source": [
    "results.loc[(results['source_class'] == 'groundwater'),['status_group']].value_counts()"
   ]
  },
  {
   "cell_type": "code",
   "execution_count": 56,
   "metadata": {},
   "outputs": [
    {
     "data": {
      "text/plain": [
       "communal standpipe    34625\n",
       "hand pump             17488\n",
       "other                  6380\n",
       "improved spring         784\n",
       "cattle trough           116\n",
       "dam                       7\n",
       "Name: waterpoint_type_group, dtype: int64"
      ]
     },
     "execution_count": 56,
     "metadata": {},
     "output_type": "execute_result"
    }
   ],
   "source": [
    "results['waterpoint_type_group'].value_counts()"
   ]
  },
  {
   "cell_type": "code",
   "execution_count": 57,
   "metadata": {},
   "outputs": [
    {
     "data": {
      "text/plain": [
       "status_group           \n",
       "functional                 28408\n",
       "non functional             18884\n",
       "functional needs repair     3719\n",
       "dtype: int64"
      ]
     },
     "execution_count": 57,
     "metadata": {},
     "output_type": "execute_result"
    }
   ],
   "source": [
    "results.loc[(results['public_meeting'] == True),['status_group']].value_counts()"
   ]
  },
  {
   "cell_type": "code",
   "execution_count": 58,
   "metadata": {},
   "outputs": [
    {
     "data": {
      "text/plain": [
       "3635"
      ]
     },
     "execution_count": 58,
     "metadata": {},
     "output_type": "execute_result"
    }
   ],
   "source": [
    "results['funder'].isna().sum()"
   ]
  },
  {
   "cell_type": "code",
   "execution_count": 59,
   "metadata": {},
   "outputs": [
    {
     "data": {
      "text/plain": [
       "1897"
      ]
     },
     "execution_count": 59,
     "metadata": {},
     "output_type": "execute_result"
    }
   ],
   "source": [
    "len(results['funder'].value_counts())"
   ]
  },
  {
   "cell_type": "code",
   "execution_count": 60,
   "metadata": {},
   "outputs": [],
   "source": [
    "# from sklearn.metrics import f1_score, confusion_matrix, recall_score, precision_score, accuracy_score\n",
    "# from sklearn.neighbors import KNeighborsClassifier, NearestNeighbors"
   ]
  },
  {
   "cell_type": "code",
   "execution_count": 61,
   "metadata": {},
   "outputs": [],
   "source": [
    "list_of_columns = ['funder', 'installer', 'basin', 'region_code', 'scheme_management', 'permit',  'payment', 'quality_group', 'source_class', 'public_meeting', 'status_group'] \n",
    "\n",
    "\n",
    "\n",
    "\n"
   ]
  },
  {
   "cell_type": "code",
   "execution_count": 62,
   "metadata": {},
   "outputs": [],
   "source": [
    "#list2 = =['funder', 'installer', 'basin', 'region', 'population', 'public_meeting', 'scheme_management', 'permit', 'extraction_type_group', ]"
   ]
  },
  {
   "cell_type": "code",
   "execution_count": 63,
   "metadata": {},
   "outputs": [],
   "source": [
    "working_df = results[list_of_columns].copy() "
   ]
  },
  {
   "cell_type": "code",
   "execution_count": 64,
   "metadata": {},
   "outputs": [
    {
     "data": {
      "text/html": [
       "<div>\n",
       "<style scoped>\n",
       "    .dataframe tbody tr th:only-of-type {\n",
       "        vertical-align: middle;\n",
       "    }\n",
       "\n",
       "    .dataframe tbody tr th {\n",
       "        vertical-align: top;\n",
       "    }\n",
       "\n",
       "    .dataframe thead th {\n",
       "        text-align: right;\n",
       "    }\n",
       "</style>\n",
       "<table border=\"1\" class=\"dataframe\">\n",
       "  <thead>\n",
       "    <tr style=\"text-align: right;\">\n",
       "      <th></th>\n",
       "      <th>funder</th>\n",
       "      <th>installer</th>\n",
       "      <th>basin</th>\n",
       "      <th>region_code</th>\n",
       "      <th>scheme_management</th>\n",
       "      <th>permit</th>\n",
       "      <th>payment</th>\n",
       "      <th>quality_group</th>\n",
       "      <th>source_class</th>\n",
       "      <th>public_meeting</th>\n",
       "      <th>status_group</th>\n",
       "    </tr>\n",
       "  </thead>\n",
       "  <tbody>\n",
       "    <tr>\n",
       "      <th>0</th>\n",
       "      <td>Roman</td>\n",
       "      <td>Roman</td>\n",
       "      <td>Lake Nyasa</td>\n",
       "      <td>11</td>\n",
       "      <td>VWC</td>\n",
       "      <td>False</td>\n",
       "      <td>pay annually</td>\n",
       "      <td>good</td>\n",
       "      <td>groundwater</td>\n",
       "      <td>True</td>\n",
       "      <td>functional</td>\n",
       "    </tr>\n",
       "    <tr>\n",
       "      <th>1</th>\n",
       "      <td>Grumeti</td>\n",
       "      <td>GRUMETI</td>\n",
       "      <td>Lake Victoria</td>\n",
       "      <td>20</td>\n",
       "      <td>Other</td>\n",
       "      <td>True</td>\n",
       "      <td>never pay</td>\n",
       "      <td>good</td>\n",
       "      <td>surface</td>\n",
       "      <td>NaN</td>\n",
       "      <td>functional</td>\n",
       "    </tr>\n",
       "    <tr>\n",
       "      <th>2</th>\n",
       "      <td>Lottery Club</td>\n",
       "      <td>World vision</td>\n",
       "      <td>Pangani</td>\n",
       "      <td>21</td>\n",
       "      <td>VWC</td>\n",
       "      <td>True</td>\n",
       "      <td>pay per bucket</td>\n",
       "      <td>good</td>\n",
       "      <td>surface</td>\n",
       "      <td>True</td>\n",
       "      <td>functional</td>\n",
       "    </tr>\n",
       "    <tr>\n",
       "      <th>3</th>\n",
       "      <td>Unicef</td>\n",
       "      <td>UNICEF</td>\n",
       "      <td>Ruvuma / Southern Coast</td>\n",
       "      <td>90</td>\n",
       "      <td>VWC</td>\n",
       "      <td>True</td>\n",
       "      <td>never pay</td>\n",
       "      <td>good</td>\n",
       "      <td>groundwater</td>\n",
       "      <td>True</td>\n",
       "      <td>non functional</td>\n",
       "    </tr>\n",
       "    <tr>\n",
       "      <th>4</th>\n",
       "      <td>Action In A</td>\n",
       "      <td>Artisan</td>\n",
       "      <td>Lake Victoria</td>\n",
       "      <td>18</td>\n",
       "      <td>NaN</td>\n",
       "      <td>True</td>\n",
       "      <td>never pay</td>\n",
       "      <td>good</td>\n",
       "      <td>surface</td>\n",
       "      <td>True</td>\n",
       "      <td>functional</td>\n",
       "    </tr>\n",
       "    <tr>\n",
       "      <th>5</th>\n",
       "      <td>Mkinga Distric Coun</td>\n",
       "      <td>DWE</td>\n",
       "      <td>Pangani</td>\n",
       "      <td>4</td>\n",
       "      <td>VWC</td>\n",
       "      <td>True</td>\n",
       "      <td>pay per bucket</td>\n",
       "      <td>salty</td>\n",
       "      <td>unknown</td>\n",
       "      <td>True</td>\n",
       "      <td>functional</td>\n",
       "    </tr>\n",
       "  </tbody>\n",
       "</table>\n",
       "</div>"
      ],
      "text/plain": [
       "                funder     installer                    basin  region_code  \\\n",
       "0                Roman         Roman               Lake Nyasa           11   \n",
       "1              Grumeti       GRUMETI            Lake Victoria           20   \n",
       "2         Lottery Club  World vision                  Pangani           21   \n",
       "3               Unicef        UNICEF  Ruvuma / Southern Coast           90   \n",
       "4          Action In A       Artisan            Lake Victoria           18   \n",
       "5  Mkinga Distric Coun           DWE                  Pangani            4   \n",
       "\n",
       "  scheme_management permit         payment quality_group source_class  \\\n",
       "0               VWC  False    pay annually          good  groundwater   \n",
       "1             Other   True       never pay          good      surface   \n",
       "2               VWC   True  pay per bucket          good      surface   \n",
       "3               VWC   True       never pay          good  groundwater   \n",
       "4               NaN   True       never pay          good      surface   \n",
       "5               VWC   True  pay per bucket         salty      unknown   \n",
       "\n",
       "  public_meeting    status_group  \n",
       "0           True      functional  \n",
       "1            NaN      functional  \n",
       "2           True      functional  \n",
       "3           True  non functional  \n",
       "4           True      functional  \n",
       "5           True      functional  "
      ]
     },
     "execution_count": 64,
     "metadata": {},
     "output_type": "execute_result"
    }
   ],
   "source": [
    "working_df.head(6)"
   ]
  },
  {
   "cell_type": "code",
   "execution_count": 65,
   "metadata": {},
   "outputs": [
    {
     "data": {
      "text/plain": [
       "[('Government Of Tanzania', 9084),\n",
       " ('Danida', 3114),\n",
       " ('Hesawa', 2202),\n",
       " ('Rwssp', 1374),\n",
       " ('World Bank', 1349),\n",
       " ('Kkkt', 1287),\n",
       " ('World Vision', 1246),\n",
       " ('Unicef', 1057),\n",
       " ('Tasaf', 877),\n",
       " ('District Council', 843),\n",
       " ('Dhv', 829),\n",
       " ('Private Individual', 826),\n",
       " ('Dwsp', 811),\n",
       " ('0', 777),\n",
       " ('Norad', 765),\n",
       " ('Germany Republi', 610),\n",
       " ('Tcrs', 602),\n",
       " ('Ministry Of Water', 590),\n",
       " ('Water', 583),\n",
       " ('Dwe', 484),\n",
       " ('Netherlands', 470),\n",
       " ('Hifab', 450),\n",
       " ('Adb', 448),\n",
       " ('Lga', 442),\n",
       " ('Amref', 425),\n",
       " ('Fini Water', 393),\n",
       " ('Oxfam', 359),\n",
       " ('Wateraid', 333),\n",
       " ('Rc Church', 321),\n",
       " ('Isf', 316),\n",
       " ('Rudep', 312),\n",
       " ('Mission', 301),\n",
       " ('Private', 295),\n",
       " ('Jaica', 280),\n",
       " ('Roman', 275),\n",
       " ('Rural Water Supply And Sanitat', 270),\n",
       " ('Adra', 263),\n",
       " ('Ces(gmbh)', 260),\n",
       " ('Jica', 259),\n",
       " ('Shipo', 241),\n",
       " ('Wsdp', 234),\n",
       " ('Rc', 230),\n",
       " ('Finw', 219),\n",
       " ('Dh', 213),\n",
       " ('Ded', 198),\n",
       " ('Plan Int', 195),\n",
       " ('Kiliwater', 189),\n",
       " ('Dmdd', 186),\n",
       " ('Go', 181),\n",
       " ('Lawatefuka Water Supply', 180),\n",
       " ('Oxfarm', 176),\n",
       " ('Magadini-makiwaru Water', 175),\n",
       " ('Fw', 173),\n",
       " ('W.B', 170),\n",
       " ('Kkkt_makwale', 166),\n",
       " ('Ces (gmbh)', 165),\n",
       " ('Wvt', 158),\n",
       " ('Oikos E.Afrika', 155),\n",
       " ('Nethalan', 152),\n",
       " ('Mkinga Distric Coun', 150),\n",
       " ('Lvia', 147),\n",
       " ('Concern World Wide', 145),\n",
       " ('Unhcr', 137),\n",
       " ('No', 134),\n",
       " ('Swedish', 131),\n",
       " ('African', 128),\n",
       " ('Anglican Church', 126),\n",
       " ('Community', 126),\n",
       " ('He', 125),\n",
       " ('Is', 125),\n",
       " ('Ki', 124),\n",
       " ('Tardo', 123),\n",
       " ('Ir', 123),\n",
       " ('Snv', 122),\n",
       " ('Wananchi', 122),\n",
       " ('Wua', 121),\n",
       " ('Roman Catholic', 121),\n",
       " ('Unice', 119),\n",
       " ('Bsf', 117),\n",
       " ('Tassaf', 116),\n",
       " ('Co', 111),\n",
       " ('Lamp', 110),\n",
       " ('Dfid', 110),\n",
       " ('Concern', 108),\n",
       " ('Muwsa', 107),\n",
       " ('Villagers', 106),\n",
       " ('Village Council', 105),\n",
       " ('Ru', 105),\n",
       " ('Halmashauri Ya Wilaya Sikonge', 102),\n",
       " ('Hsw', 101),\n",
       " ('Germany', 101),\n",
       " ('Twe', 97),\n",
       " ('Idc', 92),\n",
       " ('Tanza', 88),\n",
       " ('Missi', 87),\n",
       " ('Undp', 86),\n",
       " ('Mdrdp', 86),\n",
       " ('H', 86),\n",
       " ('Aict', 85),\n",
       " ('Gtz', 84),\n",
       " ('Japan', 82),\n",
       " ('Cmsr', 81),\n",
       " ('Rc Ch', 80),\n",
       " ('Vwc', 78),\n",
       " ('Ndrdp', 78),\n",
       " ('Kuwait', 72),\n",
       " ('Fin Water', 72),\n",
       " ('Lwi', 72),\n",
       " ('Caritas', 70),\n",
       " ('Kkkt Church', 70),\n",
       " ('Cdtf', 70),\n",
       " ('Padep', 69),\n",
       " ('Kaemp', 69),\n",
       " ('Kibaha Town Council', 68),\n",
       " ('Conce', 68),\n",
       " ('Water Aid /sema', 68),\n",
       " ('Marafip', 68),\n",
       " ('Cefa', 67),\n",
       " ('Ncaa', 63),\n",
       " ('Commu', 62),\n",
       " ('National Rural', 62),\n",
       " ('Mkinga  Distric Cou', 62),\n",
       " ('Losaa-kia Water Supply', 62),\n",
       " ('Md', 61),\n",
       " ('Sabemo', 59),\n",
       " ('Irish Ai', 59),\n",
       " ('Plan International', 57),\n",
       " ('Twesa', 56),\n",
       " ('Kirde', 54),\n",
       " ('St', 54),\n",
       " ('Gen', 54),\n",
       " ('Tlc', 54),\n",
       " ('Idara Ya Maji', 54),\n",
       " ('Solidarm', 53),\n",
       " ('Kilindi District Co', 53),\n",
       " ('Finida German Tanzania Govt', 53),\n",
       " ('Grumeti', 53),\n",
       " ('Wfp', 52),\n",
       " ('Cocen', 52),\n",
       " ('Ta', 51),\n",
       " ('Tanapa', 51),\n",
       " ('China Government', 51),\n",
       " ('Sema', 50),\n",
       " ('Dwe/norad', 50),\n",
       " ('Tabora Municipal Council', 49),\n",
       " ('European Union', 48),\n",
       " ('Solidame', 48),\n",
       " ('Dwssp', 47),\n",
       " ('Ridep', 47),\n",
       " ('Devon Aid Korogwe', 46),\n",
       " ('Dads', 46),\n",
       " ('Miziriol', 46),\n",
       " ('Acra', 46),\n",
       " ('Red Cross', 45),\n",
       " ('Shawasa', 45),\n",
       " ('Redep', 44),\n",
       " ('Abasia', 43),\n",
       " ('Tz Japan', 43),\n",
       " ('Giz', 42),\n",
       " ('Ms', 42),\n",
       " ('Serikali', 41),\n",
       " ('Donor', 41),\n",
       " ('Tdft', 41),\n",
       " ('Cafod', 41),\n",
       " ('Soda', 40),\n",
       " ('Un', 40),\n",
       " ('Tredep', 40),\n",
       " ('Ka', 39),\n",
       " ('Jbg', 38),\n",
       " ('Kuwasa', 38),\n",
       " ('Songea District Council', 38),\n",
       " ('Dasip', 37),\n",
       " ('Fathe', 37),\n",
       " ('Kidp', 36),\n",
       " ('Urt', 36),\n",
       " ('W', 36),\n",
       " ('Songea Municipal Counci', 35),\n",
       " ('Watu Wa Ujerumani', 35),\n",
       " ('African Development Bank', 35),\n",
       " ('Mbiuwasa', 35),\n",
       " ('Islamic Found', 35),\n",
       " ('Si', 34),\n",
       " ('Water User As', 34),\n",
       " ('Ilo', 33),\n",
       " ('Ics', 33),\n",
       " ('Oikos E.Africa/european Union', 33),\n",
       " ('Finn Water', 33),\n",
       " ('Holland', 33),\n",
       " ('Aar', 33),\n",
       " ('Dhv\\\\norp', 32),\n",
       " ('Peters', 32),\n",
       " ('Kiuma', 32),\n",
       " ('Tuwasa', 32),\n",
       " ('The Desk And Chair Foundat', 31),\n",
       " ('Biore', 31),\n",
       " ('Kanisa Katoliki Lolovoni', 31),\n",
       " ('Cspd', 30),\n",
       " ('Churc', 30),\n",
       " ('Swiss If', 30),\n",
       " ('Jika', 30),\n",
       " ('Cg', 30),\n",
       " ('Kalta', 30),\n",
       " ('Po', 30),\n",
       " ('Happy Watoto Foundation', 30),\n",
       " ('Ga', 30),\n",
       " ('Peter Tesha', 30),\n",
       " ('World Vision/adra', 29),\n",
       " ('Cocern', 29),\n",
       " ('Kidep', 29),\n",
       " ('Finwater', 29),\n",
       " ('Il', 29),\n",
       " ('Water Aid/sema', 28),\n",
       " ('Sida', 28),\n",
       " ('Ereto', 28),\n",
       " ('Undp/ilo', 28),\n",
       " ('Save The Rain Usa', 28),\n",
       " ('Not Known', 27),\n",
       " ('Partage', 27),\n",
       " ('Halmashauri', 27),\n",
       " ('Hw/rc', 27),\n",
       " ('Kanisa La Menonite', 27),\n",
       " ('Dw', 27),\n",
       " ('Songas', 27),\n",
       " ('Village Government', 27),\n",
       " ('I Wash', 27),\n",
       " ('Lips', 27),\n",
       " ('Ifad', 27),\n",
       " ('Plan Internatio', 26),\n",
       " ('Nethe', 26),\n",
       " ('Cdcg', 26),\n",
       " ('Mileniam Project', 26),\n",
       " ('Wwf', 26),\n",
       " ('Quwkwin', 26),\n",
       " ('Hans', 25),\n",
       " ('Hewasa', 25),\n",
       " ('Kilwater', 25),\n",
       " ('Tacare', 25),\n",
       " ('Dadis', 25),\n",
       " ('Total Land Care', 25),\n",
       " ('Village', 25),\n",
       " ('Rc Churc', 25),\n",
       " ('Adp', 25),\n",
       " ('Kalitasi', 24),\n",
       " ('Tanzakesho', 24),\n",
       " ('Rished', 24),\n",
       " ('Roman Cathoric-same', 24),\n",
       " ('Bgm', 24),\n",
       " ('Missionaries', 24),\n",
       " ('Care International', 24),\n",
       " ('Cefa-njombe', 23),\n",
       " ('Wd And Id', 23),\n",
       " ('Ilct', 23),\n",
       " ('Cmcr', 23),\n",
       " ('Sabodo', 23),\n",
       " ('Rcchurch/cefa', 22),\n",
       " ('Luthe', 22),\n",
       " ('Mwaya Mn', 22),\n",
       " ('Bank', 22),\n",
       " ('Village Community', 22),\n",
       " ('Singida Yetu', 21),\n",
       " ('Swisland/ Mount Meru Flowers', 21),\n",
       " ('Killflora', 21),\n",
       " ('Vifafi', 21),\n",
       " ('Cipro/government', 21),\n",
       " ('Msf', 20),\n",
       " ('Islamic', 20),\n",
       " ('Sekei Village Community', 20),\n",
       " ('Norad/ Kidep', 20),\n",
       " ('Norad /government', 20),\n",
       " ('Rotary Club', 19),\n",
       " ('Maji Mugumu', 19),\n",
       " ('Efg', 19),\n",
       " ('Water Board', 19),\n",
       " ('Peace Cope', 19),\n",
       " ('Kuamu', 19),\n",
       " ('Sowasa', 19),\n",
       " ('P', 19),\n",
       " ('Dhv Moro', 19),\n",
       " ('Dct', 19),\n",
       " ('Kadp', 19),\n",
       " ('Makonde Water Population', 19),\n",
       " ('Magoma Adp', 19),\n",
       " ('One Un', 18),\n",
       " ('Ham', 18),\n",
       " ('Ubalozi Wa Marekani', 18),\n",
       " ('Gain', 18),\n",
       " ('Pidp', 18),\n",
       " ('Cct', 18),\n",
       " ('Dasp', 18),\n",
       " ('Tanzania', 18),\n",
       " ('Eu/acra', 18),\n",
       " ('The People Of Japan', 18),\n",
       " ('Mbunge', 18),\n",
       " ('Asb', 18),\n",
       " ('Idydc', 17),\n",
       " ('Father Bonifasi', 17),\n",
       " ('Drdp Ngo', 17),\n",
       " ('Msabi', 17),\n",
       " ('Sdg', 17),\n",
       " ('Bahewasa', 17),\n",
       " ('Mdc', 17),\n",
       " ('Bened', 17),\n",
       " ('Sumbawanga Munici', 17),\n",
       " ('Mkuyu', 17),\n",
       " ('Ukiligu', 17),\n",
       " ('Tasaf/dmdd', 17),\n",
       " ('Msikiti', 16),\n",
       " ('Livin', 16),\n",
       " ('Finland Government', 16),\n",
       " ('Pmo', 16),\n",
       " ('Lwiji Italy', 16),\n",
       " ('Ruthe', 16),\n",
       " ('Rwsp', 16),\n",
       " ('Quick Wings', 16),\n",
       " ('Tahea', 16),\n",
       " ('Bruder', 16),\n",
       " ('Mi', 16),\n",
       " ('Rdc', 16),\n",
       " ('Sda', 16),\n",
       " ('Isf/government', 16),\n",
       " ('Tado', 16),\n",
       " ('Shule', 15),\n",
       " ('African Relie', 15),\n",
       " ('Roman Cathoric Same', 15),\n",
       " ('African Muslim Agency', 15),\n",
       " ('Elct', 15),\n",
       " ('Dar Al Ber', 15),\n",
       " ('Fpct', 15),\n",
       " ('Us Embassy', 15),\n",
       " ('Quick Wins', 15),\n",
       " ('Resolute Mining', 15),\n",
       " ('Finland', 15),\n",
       " ('A/co Germany', 15),\n",
       " ('Living Water International', 14),\n",
       " ('Mamad', 14),\n",
       " ('Dassip', 14),\n",
       " ('Adp Mombo', 14),\n",
       " ('Private Owned', 14),\n",
       " ('Imf', 14),\n",
       " ('Isf/tacare', 14),\n",
       " ('Roman Catholic Rulenge Diocese', 14),\n",
       " ('Sao H', 14),\n",
       " ('Roman Church', 14),\n",
       " ('Olgilai Village Community', 14),\n",
       " ('Wfp/tnt/usaid', 14),\n",
       " ('Rc Church/centr', 14),\n",
       " ('Isingiro Ho', 14),\n",
       " ('Benguka', 13),\n",
       " ('Rada', 13),\n",
       " ('Ba As', 13),\n",
       " ('Maxavella', 13),\n",
       " ('Village Council/ Haydom Luther', 13),\n",
       " ('Undp/aict', 13),\n",
       " ('Jeica', 13),\n",
       " ('Halmashauri Ya Manispa Tabora', 13),\n",
       " ('Rural Water Supply And Sanita', 13),\n",
       " ('Aic', 13),\n",
       " ('Tassaf I', 13),\n",
       " ('Water Project Mbawala Chini', 13),\n",
       " ('Mosque', 13),\n",
       " ('Qwiqwi', 13),\n",
       " ('Bulyahunlu Gold Mine', 13),\n",
       " ('Aco/germany', 13),\n",
       " ('Franc', 13),\n",
       " ('The Isla', 13),\n",
       " ('Lgcdg', 13),\n",
       " ('Msf/tacare', 13),\n",
       " ('Canada', 12),\n",
       " ('Ai', 12),\n",
       " ('Af', 12),\n",
       " ('Tridep', 12),\n",
       " ('Secondary', 12),\n",
       " ('Prf', 12),\n",
       " ('National Rural And Hfa', 12),\n",
       " ('Mh An', 12),\n",
       " ('Lifetime', 12),\n",
       " ('Lutheran Church', 12),\n",
       " ('Kwikwiz', 12),\n",
       " ('Rips', 12),\n",
       " ('Kinapa', 12),\n",
       " ('Lowasa', 12),\n",
       " ('Institution', 12),\n",
       " ('Qwickwin', 12),\n",
       " ('Oxfam Gb', 12),\n",
       " ('Wfp/tnt', 11),\n",
       " ('Dak', 11),\n",
       " ('Idea', 11),\n",
       " ('Finidagermantanzania Govt', 11),\n",
       " ('Germany Misionary', 11),\n",
       " ('Unicef/central', 11),\n",
       " ('Government/ Community', 11)]"
      ]
     },
     "execution_count": 65,
     "metadata": {},
     "output_type": "execute_result"
    }
   ],
   "source": [
    "a =working_df['funder'].value_counts().items()\n",
    "s = list(a)\n",
    "k= []\n",
    "\n",
    "for w in s:\n",
    "    if w[1] > 10:\n",
    "        k.append(w)\n",
    "k"
   ]
  },
  {
   "cell_type": "code",
   "execution_count": 66,
   "metadata": {},
   "outputs": [
    {
     "data": {
      "text/plain": [
       "('Government Of Tanzania', 9084)"
      ]
     },
     "execution_count": 66,
     "metadata": {},
     "output_type": "execute_result"
    }
   ],
   "source": [
    "k[0]"
   ]
  },
  {
   "cell_type": "code",
   "execution_count": 67,
   "metadata": {},
   "outputs": [],
   "source": [
    "# v = working_df['funder'].value_counts()\n",
    "# working_df['funder_new'] =working_df[df['funder'].isin(v.index[v.gt(5)])]\n"
   ]
  },
  {
   "cell_type": "code",
   "execution_count": 68,
   "metadata": {},
   "outputs": [
    {
     "data": {
      "text/plain": [
       "DWE                   17402\n",
       "Government             1825\n",
       "RWE                    1206\n",
       "Commu                  1060\n",
       "DANIDA                 1050\n",
       "                      ...  \n",
       "p                         1\n",
       "GLOBAL RESOURCE CO        1\n",
       "WDE                       1\n",
       "Kambi Migoko              1\n",
       "SOLIDARM                  1\n",
       "Name: installer, Length: 2145, dtype: int64"
      ]
     },
     "execution_count": 68,
     "metadata": {},
     "output_type": "execute_result"
    }
   ],
   "source": [
    "working_df['installer'].value_counts()"
   ]
  },
  {
   "cell_type": "code",
   "execution_count": 69,
   "metadata": {},
   "outputs": [
    {
     "data": {
      "text/plain": [
       "funder               3635\n",
       "installer            3655\n",
       "basin                   0\n",
       "region_code             0\n",
       "scheme_management    3877\n",
       "permit               3056\n",
       "payment                 0\n",
       "quality_group           0\n",
       "source_class            0\n",
       "public_meeting       3334\n",
       "status_group            0\n",
       "dtype: int64"
      ]
     },
     "execution_count": 69,
     "metadata": {},
     "output_type": "execute_result"
    }
   ],
   "source": [
    "working_df.isna().sum()"
   ]
  },
  {
   "cell_type": "code",
   "execution_count": 70,
   "metadata": {},
   "outputs": [],
   "source": [
    "working_df.dropna(axis =0 ,inplace=True)"
   ]
  },
  {
   "cell_type": "code",
   "execution_count": 71,
   "metadata": {},
   "outputs": [
    {
     "data": {
      "text/plain": [
       "funder               0\n",
       "installer            0\n",
       "basin                0\n",
       "region_code          0\n",
       "scheme_management    0\n",
       "permit               0\n",
       "payment              0\n",
       "quality_group        0\n",
       "source_class         0\n",
       "public_meeting       0\n",
       "status_group         0\n",
       "dtype: int64"
      ]
     },
     "execution_count": 71,
     "metadata": {},
     "output_type": "execute_result"
    }
   ],
   "source": [
    "working_df.isna().sum()"
   ]
  },
  {
   "cell_type": "code",
   "execution_count": 72,
   "metadata": {},
   "outputs": [
    {
     "name": "stdout",
     "output_type": "stream",
     "text": [
      "<class 'pandas.core.frame.DataFrame'>\n",
      "Int64Index: 48651 entries, 0 to 59399\n",
      "Data columns (total 11 columns):\n",
      " #   Column             Non-Null Count  Dtype \n",
      "---  ------             --------------  ----- \n",
      " 0   funder             48651 non-null  object\n",
      " 1   installer          48651 non-null  object\n",
      " 2   basin              48651 non-null  object\n",
      " 3   region_code        48651 non-null  int64 \n",
      " 4   scheme_management  48651 non-null  object\n",
      " 5   permit             48651 non-null  object\n",
      " 6   payment            48651 non-null  object\n",
      " 7   quality_group      48651 non-null  object\n",
      " 8   source_class       48651 non-null  object\n",
      " 9   public_meeting     48651 non-null  object\n",
      " 10  status_group       48651 non-null  object\n",
      "dtypes: int64(1), object(10)\n",
      "memory usage: 4.5+ MB\n"
     ]
    }
   ],
   "source": [
    "working_df.info()"
   ]
  },
  {
   "cell_type": "code",
   "execution_count": 73,
   "metadata": {},
   "outputs": [],
   "source": [
    "# w_df = pd.concat([working_df, onehotencoder('funder' , working_df)  ], axis =1)"
   ]
  },
  {
   "cell_type": "code",
   "execution_count": 74,
   "metadata": {
    "scrolled": true
   },
   "outputs": [],
   "source": [
    "# w_df2 = pd.concat([w_df, onehotencoder('installer' , results)])\n",
    "# panda astype in"
   ]
  },
  {
   "cell_type": "code",
   "execution_count": 75,
   "metadata": {},
   "outputs": [],
   "source": [
    "from sklearn.preprocessing import OrdinalEncoder\n",
    "permit_new = working_df[['permit']]\n",
    "encoder = OrdinalEncoder()\n",
    "encoder.fit(permit_new)\n",
    "encoded_permit = encoder.transform(permit_new)\n",
    "encoded_permit = encoded_permit.flatten()\n",
    "working_df.permit = encoded_permit"
   ]
  },
  {
   "cell_type": "code",
   "execution_count": 76,
   "metadata": {},
   "outputs": [
    {
     "data": {
      "text/html": [
       "<div>\n",
       "<style scoped>\n",
       "    .dataframe tbody tr th:only-of-type {\n",
       "        vertical-align: middle;\n",
       "    }\n",
       "\n",
       "    .dataframe tbody tr th {\n",
       "        vertical-align: top;\n",
       "    }\n",
       "\n",
       "    .dataframe thead th {\n",
       "        text-align: right;\n",
       "    }\n",
       "</style>\n",
       "<table border=\"1\" class=\"dataframe\">\n",
       "  <thead>\n",
       "    <tr style=\"text-align: right;\">\n",
       "      <th></th>\n",
       "      <th>funder</th>\n",
       "      <th>installer</th>\n",
       "      <th>basin</th>\n",
       "      <th>region_code</th>\n",
       "      <th>scheme_management</th>\n",
       "      <th>permit</th>\n",
       "      <th>payment</th>\n",
       "      <th>quality_group</th>\n",
       "      <th>source_class</th>\n",
       "      <th>public_meeting</th>\n",
       "      <th>status_group</th>\n",
       "    </tr>\n",
       "  </thead>\n",
       "  <tbody>\n",
       "    <tr>\n",
       "      <th>0</th>\n",
       "      <td>Roman</td>\n",
       "      <td>Roman</td>\n",
       "      <td>Lake Nyasa</td>\n",
       "      <td>11</td>\n",
       "      <td>VWC</td>\n",
       "      <td>0.0</td>\n",
       "      <td>pay annually</td>\n",
       "      <td>good</td>\n",
       "      <td>groundwater</td>\n",
       "      <td>True</td>\n",
       "      <td>functional</td>\n",
       "    </tr>\n",
       "    <tr>\n",
       "      <th>2</th>\n",
       "      <td>Lottery Club</td>\n",
       "      <td>World vision</td>\n",
       "      <td>Pangani</td>\n",
       "      <td>21</td>\n",
       "      <td>VWC</td>\n",
       "      <td>1.0</td>\n",
       "      <td>pay per bucket</td>\n",
       "      <td>good</td>\n",
       "      <td>surface</td>\n",
       "      <td>True</td>\n",
       "      <td>functional</td>\n",
       "    </tr>\n",
       "    <tr>\n",
       "      <th>3</th>\n",
       "      <td>Unicef</td>\n",
       "      <td>UNICEF</td>\n",
       "      <td>Ruvuma / Southern Coast</td>\n",
       "      <td>90</td>\n",
       "      <td>VWC</td>\n",
       "      <td>1.0</td>\n",
       "      <td>never pay</td>\n",
       "      <td>good</td>\n",
       "      <td>groundwater</td>\n",
       "      <td>True</td>\n",
       "      <td>non functional</td>\n",
       "    </tr>\n",
       "    <tr>\n",
       "      <th>5</th>\n",
       "      <td>Mkinga Distric Coun</td>\n",
       "      <td>DWE</td>\n",
       "      <td>Pangani</td>\n",
       "      <td>4</td>\n",
       "      <td>VWC</td>\n",
       "      <td>1.0</td>\n",
       "      <td>pay per bucket</td>\n",
       "      <td>salty</td>\n",
       "      <td>unknown</td>\n",
       "      <td>True</td>\n",
       "      <td>functional</td>\n",
       "    </tr>\n",
       "    <tr>\n",
       "      <th>6</th>\n",
       "      <td>Dwsp</td>\n",
       "      <td>DWSP</td>\n",
       "      <td>Internal</td>\n",
       "      <td>17</td>\n",
       "      <td>VWC</td>\n",
       "      <td>1.0</td>\n",
       "      <td>never pay</td>\n",
       "      <td>good</td>\n",
       "      <td>groundwater</td>\n",
       "      <td>True</td>\n",
       "      <td>non functional</td>\n",
       "    </tr>\n",
       "    <tr>\n",
       "      <th>...</th>\n",
       "      <td>...</td>\n",
       "      <td>...</td>\n",
       "      <td>...</td>\n",
       "      <td>...</td>\n",
       "      <td>...</td>\n",
       "      <td>...</td>\n",
       "      <td>...</td>\n",
       "      <td>...</td>\n",
       "      <td>...</td>\n",
       "      <td>...</td>\n",
       "      <td>...</td>\n",
       "    </tr>\n",
       "    <tr>\n",
       "      <th>59394</th>\n",
       "      <td>World Bank</td>\n",
       "      <td>ML appro</td>\n",
       "      <td>Wami / Ruvu</td>\n",
       "      <td>5</td>\n",
       "      <td>VWC</td>\n",
       "      <td>1.0</td>\n",
       "      <td>pay monthly</td>\n",
       "      <td>good</td>\n",
       "      <td>groundwater</td>\n",
       "      <td>True</td>\n",
       "      <td>non functional</td>\n",
       "    </tr>\n",
       "    <tr>\n",
       "      <th>59395</th>\n",
       "      <td>Germany Republi</td>\n",
       "      <td>CES</td>\n",
       "      <td>Pangani</td>\n",
       "      <td>3</td>\n",
       "      <td>Water Board</td>\n",
       "      <td>1.0</td>\n",
       "      <td>pay per bucket</td>\n",
       "      <td>good</td>\n",
       "      <td>groundwater</td>\n",
       "      <td>True</td>\n",
       "      <td>functional</td>\n",
       "    </tr>\n",
       "    <tr>\n",
       "      <th>59396</th>\n",
       "      <td>Cefa-njombe</td>\n",
       "      <td>Cefa</td>\n",
       "      <td>Rufiji</td>\n",
       "      <td>11</td>\n",
       "      <td>VWC</td>\n",
       "      <td>1.0</td>\n",
       "      <td>pay annually</td>\n",
       "      <td>good</td>\n",
       "      <td>surface</td>\n",
       "      <td>True</td>\n",
       "      <td>functional</td>\n",
       "    </tr>\n",
       "    <tr>\n",
       "      <th>59398</th>\n",
       "      <td>Malec</td>\n",
       "      <td>Musa</td>\n",
       "      <td>Rufiji</td>\n",
       "      <td>1</td>\n",
       "      <td>VWC</td>\n",
       "      <td>1.0</td>\n",
       "      <td>never pay</td>\n",
       "      <td>good</td>\n",
       "      <td>groundwater</td>\n",
       "      <td>True</td>\n",
       "      <td>functional</td>\n",
       "    </tr>\n",
       "    <tr>\n",
       "      <th>59399</th>\n",
       "      <td>World Bank</td>\n",
       "      <td>World</td>\n",
       "      <td>Wami / Ruvu</td>\n",
       "      <td>5</td>\n",
       "      <td>VWC</td>\n",
       "      <td>1.0</td>\n",
       "      <td>pay when scheme fails</td>\n",
       "      <td>salty</td>\n",
       "      <td>groundwater</td>\n",
       "      <td>True</td>\n",
       "      <td>functional</td>\n",
       "    </tr>\n",
       "  </tbody>\n",
       "</table>\n",
       "<p>48651 rows × 11 columns</p>\n",
       "</div>"
      ],
      "text/plain": [
       "                    funder     installer                    basin  \\\n",
       "0                    Roman         Roman               Lake Nyasa   \n",
       "2             Lottery Club  World vision                  Pangani   \n",
       "3                   Unicef        UNICEF  Ruvuma / Southern Coast   \n",
       "5      Mkinga Distric Coun           DWE                  Pangani   \n",
       "6                     Dwsp          DWSP                 Internal   \n",
       "...                    ...           ...                      ...   \n",
       "59394           World Bank      ML appro              Wami / Ruvu   \n",
       "59395      Germany Republi           CES                  Pangani   \n",
       "59396          Cefa-njombe          Cefa                   Rufiji   \n",
       "59398                Malec          Musa                   Rufiji   \n",
       "59399           World Bank         World              Wami / Ruvu   \n",
       "\n",
       "       region_code scheme_management  permit                payment  \\\n",
       "0               11               VWC     0.0           pay annually   \n",
       "2               21               VWC     1.0         pay per bucket   \n",
       "3               90               VWC     1.0              never pay   \n",
       "5                4               VWC     1.0         pay per bucket   \n",
       "6               17               VWC     1.0              never pay   \n",
       "...            ...               ...     ...                    ...   \n",
       "59394            5               VWC     1.0            pay monthly   \n",
       "59395            3       Water Board     1.0         pay per bucket   \n",
       "59396           11               VWC     1.0           pay annually   \n",
       "59398            1               VWC     1.0              never pay   \n",
       "59399            5               VWC     1.0  pay when scheme fails   \n",
       "\n",
       "      quality_group source_class public_meeting    status_group  \n",
       "0              good  groundwater           True      functional  \n",
       "2              good      surface           True      functional  \n",
       "3              good  groundwater           True  non functional  \n",
       "5             salty      unknown           True      functional  \n",
       "6              good  groundwater           True  non functional  \n",
       "...             ...          ...            ...             ...  \n",
       "59394          good  groundwater           True  non functional  \n",
       "59395          good  groundwater           True      functional  \n",
       "59396          good      surface           True      functional  \n",
       "59398          good  groundwater           True      functional  \n",
       "59399         salty  groundwater           True      functional  \n",
       "\n",
       "[48651 rows x 11 columns]"
      ]
     },
     "execution_count": 76,
     "metadata": {},
     "output_type": "execute_result"
    }
   ],
   "source": [
    "working_df"
   ]
  },
  {
   "cell_type": "code",
   "execution_count": 77,
   "metadata": {},
   "outputs": [],
   "source": [
    "a =onehotencoder('funder' , working_df)\n",
    "b = onehotencoder('installer' , working_df)\n",
    "c = onehotencoder('basin' , working_df)\n",
    "d = onehotencoder('region_code' , working_df)\n",
    "e = onehotencoder('scheme_management' , working_df)\n",
    "f = onehotencoder('payment' , working_df)\n",
    "g =onehotencoder('quality_group' , working_df)\n",
    "h = onehotencoder('source_class' , working_df)\n",
    "i = onehotencoder('public_meeting' , working_df)"
   ]
  },
  {
   "cell_type": "code",
   "execution_count": 78,
   "metadata": {},
   "outputs": [],
   "source": [
    "w_df = pd.concat([working_df, a, b,c,d,e,f,g,h,i], axis =1)"
   ]
  },
  {
   "cell_type": "code",
   "execution_count": 79,
   "metadata": {},
   "outputs": [
    {
     "name": "stdout",
     "output_type": "stream",
     "text": [
      "<class 'pandas.core.frame.DataFrame'>\n",
      "Int64Index: 48651 entries, 0 to 59399\n",
      "Columns: 3464 entries, funder to public_meeting_True\n",
      "dtypes: float64(3454), int64(1), object(9)\n",
      "memory usage: 1.3+ GB\n"
     ]
    }
   ],
   "source": [
    "w_df.info()"
   ]
  },
  {
   "cell_type": "code",
   "execution_count": 80,
   "metadata": {},
   "outputs": [
    {
     "data": {
      "text/plain": [
       "funder                      0\n",
       "installer                   0\n",
       "basin                       0\n",
       "region_code                 0\n",
       "scheme_management           0\n",
       "                           ..\n",
       "source_class_groundwater    0\n",
       "source_class_surface        0\n",
       "source_class_unknown        0\n",
       "public_meeting_False        0\n",
       "public_meeting_True         0\n",
       "Length: 3464, dtype: int64"
      ]
     },
     "execution_count": 80,
     "metadata": {},
     "output_type": "execute_result"
    }
   ],
   "source": [
    "w_df.isna().sum()"
   ]
  },
  {
   "cell_type": "code",
   "execution_count": 81,
   "metadata": {},
   "outputs": [
    {
     "data": {
      "text/html": [
       "<div>\n",
       "<style scoped>\n",
       "    .dataframe tbody tr th:only-of-type {\n",
       "        vertical-align: middle;\n",
       "    }\n",
       "\n",
       "    .dataframe tbody tr th {\n",
       "        vertical-align: top;\n",
       "    }\n",
       "\n",
       "    .dataframe thead th {\n",
       "        text-align: right;\n",
       "    }\n",
       "</style>\n",
       "<table border=\"1\" class=\"dataframe\">\n",
       "  <thead>\n",
       "    <tr style=\"text-align: right;\">\n",
       "      <th></th>\n",
       "      <th>funder</th>\n",
       "      <th>installer</th>\n",
       "      <th>basin</th>\n",
       "      <th>region_code</th>\n",
       "      <th>scheme_management</th>\n",
       "      <th>permit</th>\n",
       "      <th>payment</th>\n",
       "      <th>quality_group</th>\n",
       "      <th>source_class</th>\n",
       "      <th>public_meeting</th>\n",
       "      <th>...</th>\n",
       "      <th>quality_group_fluoride</th>\n",
       "      <th>quality_group_good</th>\n",
       "      <th>quality_group_milky</th>\n",
       "      <th>quality_group_salty</th>\n",
       "      <th>quality_group_unknown</th>\n",
       "      <th>source_class_groundwater</th>\n",
       "      <th>source_class_surface</th>\n",
       "      <th>source_class_unknown</th>\n",
       "      <th>public_meeting_False</th>\n",
       "      <th>public_meeting_True</th>\n",
       "    </tr>\n",
       "  </thead>\n",
       "  <tbody>\n",
       "    <tr>\n",
       "      <th>0</th>\n",
       "      <td>Roman</td>\n",
       "      <td>Roman</td>\n",
       "      <td>Lake Nyasa</td>\n",
       "      <td>11</td>\n",
       "      <td>VWC</td>\n",
       "      <td>0.0</td>\n",
       "      <td>pay annually</td>\n",
       "      <td>good</td>\n",
       "      <td>groundwater</td>\n",
       "      <td>True</td>\n",
       "      <td>...</td>\n",
       "      <td>0.0</td>\n",
       "      <td>1.0</td>\n",
       "      <td>0.0</td>\n",
       "      <td>0.0</td>\n",
       "      <td>0.0</td>\n",
       "      <td>1.0</td>\n",
       "      <td>0.0</td>\n",
       "      <td>0.0</td>\n",
       "      <td>0.0</td>\n",
       "      <td>1.0</td>\n",
       "    </tr>\n",
       "    <tr>\n",
       "      <th>2</th>\n",
       "      <td>Lottery Club</td>\n",
       "      <td>World vision</td>\n",
       "      <td>Pangani</td>\n",
       "      <td>21</td>\n",
       "      <td>VWC</td>\n",
       "      <td>1.0</td>\n",
       "      <td>pay per bucket</td>\n",
       "      <td>good</td>\n",
       "      <td>surface</td>\n",
       "      <td>True</td>\n",
       "      <td>...</td>\n",
       "      <td>0.0</td>\n",
       "      <td>1.0</td>\n",
       "      <td>0.0</td>\n",
       "      <td>0.0</td>\n",
       "      <td>0.0</td>\n",
       "      <td>0.0</td>\n",
       "      <td>1.0</td>\n",
       "      <td>0.0</td>\n",
       "      <td>0.0</td>\n",
       "      <td>1.0</td>\n",
       "    </tr>\n",
       "    <tr>\n",
       "      <th>3</th>\n",
       "      <td>Unicef</td>\n",
       "      <td>UNICEF</td>\n",
       "      <td>Ruvuma / Southern Coast</td>\n",
       "      <td>90</td>\n",
       "      <td>VWC</td>\n",
       "      <td>1.0</td>\n",
       "      <td>never pay</td>\n",
       "      <td>good</td>\n",
       "      <td>groundwater</td>\n",
       "      <td>True</td>\n",
       "      <td>...</td>\n",
       "      <td>0.0</td>\n",
       "      <td>1.0</td>\n",
       "      <td>0.0</td>\n",
       "      <td>0.0</td>\n",
       "      <td>0.0</td>\n",
       "      <td>1.0</td>\n",
       "      <td>0.0</td>\n",
       "      <td>0.0</td>\n",
       "      <td>0.0</td>\n",
       "      <td>1.0</td>\n",
       "    </tr>\n",
       "    <tr>\n",
       "      <th>5</th>\n",
       "      <td>Mkinga Distric Coun</td>\n",
       "      <td>DWE</td>\n",
       "      <td>Pangani</td>\n",
       "      <td>4</td>\n",
       "      <td>VWC</td>\n",
       "      <td>1.0</td>\n",
       "      <td>pay per bucket</td>\n",
       "      <td>salty</td>\n",
       "      <td>unknown</td>\n",
       "      <td>True</td>\n",
       "      <td>...</td>\n",
       "      <td>0.0</td>\n",
       "      <td>0.0</td>\n",
       "      <td>0.0</td>\n",
       "      <td>1.0</td>\n",
       "      <td>0.0</td>\n",
       "      <td>0.0</td>\n",
       "      <td>0.0</td>\n",
       "      <td>1.0</td>\n",
       "      <td>0.0</td>\n",
       "      <td>1.0</td>\n",
       "    </tr>\n",
       "    <tr>\n",
       "      <th>6</th>\n",
       "      <td>Dwsp</td>\n",
       "      <td>DWSP</td>\n",
       "      <td>Internal</td>\n",
       "      <td>17</td>\n",
       "      <td>VWC</td>\n",
       "      <td>1.0</td>\n",
       "      <td>never pay</td>\n",
       "      <td>good</td>\n",
       "      <td>groundwater</td>\n",
       "      <td>True</td>\n",
       "      <td>...</td>\n",
       "      <td>0.0</td>\n",
       "      <td>1.0</td>\n",
       "      <td>0.0</td>\n",
       "      <td>0.0</td>\n",
       "      <td>0.0</td>\n",
       "      <td>1.0</td>\n",
       "      <td>0.0</td>\n",
       "      <td>0.0</td>\n",
       "      <td>0.0</td>\n",
       "      <td>1.0</td>\n",
       "    </tr>\n",
       "  </tbody>\n",
       "</table>\n",
       "<p>5 rows × 3464 columns</p>\n",
       "</div>"
      ],
      "text/plain": [
       "                funder     installer                    basin  region_code  \\\n",
       "0                Roman         Roman               Lake Nyasa           11   \n",
       "2         Lottery Club  World vision                  Pangani           21   \n",
       "3               Unicef        UNICEF  Ruvuma / Southern Coast           90   \n",
       "5  Mkinga Distric Coun           DWE                  Pangani            4   \n",
       "6                 Dwsp          DWSP                 Internal           17   \n",
       "\n",
       "  scheme_management  permit         payment quality_group source_class  \\\n",
       "0               VWC     0.0    pay annually          good  groundwater   \n",
       "2               VWC     1.0  pay per bucket          good      surface   \n",
       "3               VWC     1.0       never pay          good  groundwater   \n",
       "5               VWC     1.0  pay per bucket         salty      unknown   \n",
       "6               VWC     1.0       never pay          good  groundwater   \n",
       "\n",
       "  public_meeting  ... quality_group_fluoride  quality_group_good  \\\n",
       "0           True  ...                    0.0                 1.0   \n",
       "2           True  ...                    0.0                 1.0   \n",
       "3           True  ...                    0.0                 1.0   \n",
       "5           True  ...                    0.0                 0.0   \n",
       "6           True  ...                    0.0                 1.0   \n",
       "\n",
       "   quality_group_milky  quality_group_salty  quality_group_unknown  \\\n",
       "0                  0.0                  0.0                    0.0   \n",
       "2                  0.0                  0.0                    0.0   \n",
       "3                  0.0                  0.0                    0.0   \n",
       "5                  0.0                  1.0                    0.0   \n",
       "6                  0.0                  0.0                    0.0   \n",
       "\n",
       "   source_class_groundwater  source_class_surface  source_class_unknown  \\\n",
       "0                       1.0                   0.0                   0.0   \n",
       "2                       0.0                   1.0                   0.0   \n",
       "3                       1.0                   0.0                   0.0   \n",
       "5                       0.0                   0.0                   1.0   \n",
       "6                       1.0                   0.0                   0.0   \n",
       "\n",
       "   public_meeting_False  public_meeting_True  \n",
       "0                   0.0                  1.0  \n",
       "2                   0.0                  1.0  \n",
       "3                   0.0                  1.0  \n",
       "5                   0.0                  1.0  \n",
       "6                   0.0                  1.0  \n",
       "\n",
       "[5 rows x 3464 columns]"
      ]
     },
     "execution_count": 81,
     "metadata": {},
     "output_type": "execute_result"
    }
   ],
   "source": [
    "w_df.head()"
   ]
  },
  {
   "cell_type": "code",
   "execution_count": 82,
   "metadata": {
    "scrolled": true
   },
   "outputs": [],
   "source": [
    "w_df.drop(['funder', 'installer', 'basin', 'region_code', 'scheme_management', 'payment', 'quality_group', 'source_class', 'public_meeting'], axis=1, inplace=True)"
   ]
  },
  {
   "cell_type": "code",
   "execution_count": 83,
   "metadata": {},
   "outputs": [
    {
     "data": {
      "text/html": [
       "<div>\n",
       "<style scoped>\n",
       "    .dataframe tbody tr th:only-of-type {\n",
       "        vertical-align: middle;\n",
       "    }\n",
       "\n",
       "    .dataframe tbody tr th {\n",
       "        vertical-align: top;\n",
       "    }\n",
       "\n",
       "    .dataframe thead th {\n",
       "        text-align: right;\n",
       "    }\n",
       "</style>\n",
       "<table border=\"1\" class=\"dataframe\">\n",
       "  <thead>\n",
       "    <tr style=\"text-align: right;\">\n",
       "      <th></th>\n",
       "      <th>permit</th>\n",
       "      <th>status_group</th>\n",
       "      <th>funder_0</th>\n",
       "      <th>funder_A/co Germany</th>\n",
       "      <th>funder_Aar</th>\n",
       "      <th>funder_Abas Ka</th>\n",
       "      <th>funder_Abasia</th>\n",
       "      <th>funder_Abc-ihushi Development Cent</th>\n",
       "      <th>funder_Abd</th>\n",
       "      <th>funder_Abdul</th>\n",
       "      <th>...</th>\n",
       "      <th>quality_group_fluoride</th>\n",
       "      <th>quality_group_good</th>\n",
       "      <th>quality_group_milky</th>\n",
       "      <th>quality_group_salty</th>\n",
       "      <th>quality_group_unknown</th>\n",
       "      <th>source_class_groundwater</th>\n",
       "      <th>source_class_surface</th>\n",
       "      <th>source_class_unknown</th>\n",
       "      <th>public_meeting_False</th>\n",
       "      <th>public_meeting_True</th>\n",
       "    </tr>\n",
       "  </thead>\n",
       "  <tbody>\n",
       "    <tr>\n",
       "      <th>0</th>\n",
       "      <td>0.0</td>\n",
       "      <td>functional</td>\n",
       "      <td>0.0</td>\n",
       "      <td>0.0</td>\n",
       "      <td>0.0</td>\n",
       "      <td>0.0</td>\n",
       "      <td>0.0</td>\n",
       "      <td>0.0</td>\n",
       "      <td>0.0</td>\n",
       "      <td>0.0</td>\n",
       "      <td>...</td>\n",
       "      <td>0.0</td>\n",
       "      <td>1.0</td>\n",
       "      <td>0.0</td>\n",
       "      <td>0.0</td>\n",
       "      <td>0.0</td>\n",
       "      <td>1.0</td>\n",
       "      <td>0.0</td>\n",
       "      <td>0.0</td>\n",
       "      <td>0.0</td>\n",
       "      <td>1.0</td>\n",
       "    </tr>\n",
       "    <tr>\n",
       "      <th>2</th>\n",
       "      <td>1.0</td>\n",
       "      <td>functional</td>\n",
       "      <td>0.0</td>\n",
       "      <td>0.0</td>\n",
       "      <td>0.0</td>\n",
       "      <td>0.0</td>\n",
       "      <td>0.0</td>\n",
       "      <td>0.0</td>\n",
       "      <td>0.0</td>\n",
       "      <td>0.0</td>\n",
       "      <td>...</td>\n",
       "      <td>0.0</td>\n",
       "      <td>1.0</td>\n",
       "      <td>0.0</td>\n",
       "      <td>0.0</td>\n",
       "      <td>0.0</td>\n",
       "      <td>0.0</td>\n",
       "      <td>1.0</td>\n",
       "      <td>0.0</td>\n",
       "      <td>0.0</td>\n",
       "      <td>1.0</td>\n",
       "    </tr>\n",
       "    <tr>\n",
       "      <th>3</th>\n",
       "      <td>1.0</td>\n",
       "      <td>non functional</td>\n",
       "      <td>0.0</td>\n",
       "      <td>0.0</td>\n",
       "      <td>0.0</td>\n",
       "      <td>0.0</td>\n",
       "      <td>0.0</td>\n",
       "      <td>0.0</td>\n",
       "      <td>0.0</td>\n",
       "      <td>0.0</td>\n",
       "      <td>...</td>\n",
       "      <td>0.0</td>\n",
       "      <td>1.0</td>\n",
       "      <td>0.0</td>\n",
       "      <td>0.0</td>\n",
       "      <td>0.0</td>\n",
       "      <td>1.0</td>\n",
       "      <td>0.0</td>\n",
       "      <td>0.0</td>\n",
       "      <td>0.0</td>\n",
       "      <td>1.0</td>\n",
       "    </tr>\n",
       "    <tr>\n",
       "      <th>5</th>\n",
       "      <td>1.0</td>\n",
       "      <td>functional</td>\n",
       "      <td>0.0</td>\n",
       "      <td>0.0</td>\n",
       "      <td>0.0</td>\n",
       "      <td>0.0</td>\n",
       "      <td>0.0</td>\n",
       "      <td>0.0</td>\n",
       "      <td>0.0</td>\n",
       "      <td>0.0</td>\n",
       "      <td>...</td>\n",
       "      <td>0.0</td>\n",
       "      <td>0.0</td>\n",
       "      <td>0.0</td>\n",
       "      <td>1.0</td>\n",
       "      <td>0.0</td>\n",
       "      <td>0.0</td>\n",
       "      <td>0.0</td>\n",
       "      <td>1.0</td>\n",
       "      <td>0.0</td>\n",
       "      <td>1.0</td>\n",
       "    </tr>\n",
       "    <tr>\n",
       "      <th>6</th>\n",
       "      <td>1.0</td>\n",
       "      <td>non functional</td>\n",
       "      <td>0.0</td>\n",
       "      <td>0.0</td>\n",
       "      <td>0.0</td>\n",
       "      <td>0.0</td>\n",
       "      <td>0.0</td>\n",
       "      <td>0.0</td>\n",
       "      <td>0.0</td>\n",
       "      <td>0.0</td>\n",
       "      <td>...</td>\n",
       "      <td>0.0</td>\n",
       "      <td>1.0</td>\n",
       "      <td>0.0</td>\n",
       "      <td>0.0</td>\n",
       "      <td>0.0</td>\n",
       "      <td>1.0</td>\n",
       "      <td>0.0</td>\n",
       "      <td>0.0</td>\n",
       "      <td>0.0</td>\n",
       "      <td>1.0</td>\n",
       "    </tr>\n",
       "  </tbody>\n",
       "</table>\n",
       "<p>5 rows × 3455 columns</p>\n",
       "</div>"
      ],
      "text/plain": [
       "   permit    status_group  funder_0  funder_A/co Germany  funder_Aar  \\\n",
       "0     0.0      functional       0.0                  0.0         0.0   \n",
       "2     1.0      functional       0.0                  0.0         0.0   \n",
       "3     1.0  non functional       0.0                  0.0         0.0   \n",
       "5     1.0      functional       0.0                  0.0         0.0   \n",
       "6     1.0  non functional       0.0                  0.0         0.0   \n",
       "\n",
       "   funder_Abas Ka  funder_Abasia  funder_Abc-ihushi Development Cent  \\\n",
       "0             0.0            0.0                                 0.0   \n",
       "2             0.0            0.0                                 0.0   \n",
       "3             0.0            0.0                                 0.0   \n",
       "5             0.0            0.0                                 0.0   \n",
       "6             0.0            0.0                                 0.0   \n",
       "\n",
       "   funder_Abd  funder_Abdul  ...  quality_group_fluoride  quality_group_good  \\\n",
       "0         0.0           0.0  ...                     0.0                 1.0   \n",
       "2         0.0           0.0  ...                     0.0                 1.0   \n",
       "3         0.0           0.0  ...                     0.0                 1.0   \n",
       "5         0.0           0.0  ...                     0.0                 0.0   \n",
       "6         0.0           0.0  ...                     0.0                 1.0   \n",
       "\n",
       "   quality_group_milky  quality_group_salty  quality_group_unknown  \\\n",
       "0                  0.0                  0.0                    0.0   \n",
       "2                  0.0                  0.0                    0.0   \n",
       "3                  0.0                  0.0                    0.0   \n",
       "5                  0.0                  1.0                    0.0   \n",
       "6                  0.0                  0.0                    0.0   \n",
       "\n",
       "   source_class_groundwater  source_class_surface  source_class_unknown  \\\n",
       "0                       1.0                   0.0                   0.0   \n",
       "2                       0.0                   1.0                   0.0   \n",
       "3                       1.0                   0.0                   0.0   \n",
       "5                       0.0                   0.0                   1.0   \n",
       "6                       1.0                   0.0                   0.0   \n",
       "\n",
       "   public_meeting_False  public_meeting_True  \n",
       "0                   0.0                  1.0  \n",
       "2                   0.0                  1.0  \n",
       "3                   0.0                  1.0  \n",
       "5                   0.0                  1.0  \n",
       "6                   0.0                  1.0  \n",
       "\n",
       "[5 rows x 3455 columns]"
      ]
     },
     "execution_count": 83,
     "metadata": {},
     "output_type": "execute_result"
    }
   ],
   "source": [
    "w_df.head()"
   ]
  },
  {
   "cell_type": "code",
   "execution_count": 84,
   "metadata": {
    "scrolled": true
   },
   "outputs": [
    {
     "data": {
      "text/plain": [
       "functional                 26720\n",
       "non functional             18432\n",
       "functional needs repair     3499\n",
       "Name: status_group, dtype: int64"
      ]
     },
     "execution_count": 84,
     "metadata": {},
     "output_type": "execute_result"
    }
   ],
   "source": [
    "w_df['status_group'].value_counts()"
   ]
  },
  {
   "cell_type": "code",
   "execution_count": null,
   "metadata": {},
   "outputs": [],
   "source": []
  },
  {
   "cell_type": "code",
   "execution_count": 85,
   "metadata": {},
   "outputs": [],
   "source": [
    "import numpy as np\n",
    "\n",
    "from matplotlib import pyplot as plt\n",
    "import seaborn as sns\n",
    "from scipy import stats as stats\n",
    "\n",
    "from sklearn.linear_model import LogisticRegression\n",
    "from sklearn.neighbors import KNeighborsClassifier\n",
    "from sklearn.tree import DecisionTreeClassifier\n",
    "\n",
    "from sklearn.metrics import precision_score, recall_score\n",
    "from sklearn.model_selection import  GridSearchCV,\\\n",
    "cross_val_score, RandomizedSearchCV, train_test_split\n",
    "\n",
    "\n"
   ]
  },
  {
   "cell_type": "code",
   "execution_count": 86,
   "metadata": {},
   "outputs": [],
   "source": [
    "X = w_df.drop(columns='status_group', axis = 1)\n",
    "y = w_df['status_group']\n",
    "X_train, X_test, y_train, y_test = train_test_split(X, y, random_state=42)"
   ]
  },
  {
   "cell_type": "code",
   "execution_count": null,
   "metadata": {},
   "outputs": [],
   "source": [
    "dt = DecisionTreeClassifier(random_state=10)\n",
    "dt.fit(X_train, y_train)"
   ]
  },
  {
   "cell_type": "code",
   "execution_count": null,
   "metadata": {},
   "outputs": [],
   "source": [
    "dt.score(X_test, y_test)"
   ]
  },
  {
   "cell_type": "code",
   "execution_count": null,
   "metadata": {},
   "outputs": [],
   "source": [
    "grid = {\n",
    "    'criterion' : ['entropy', 'gini'],\n",
    "    'max_depth': [10, 15, 20, None]\n",
    "}\n",
    "gs = GridSearchCV(estimator=dt , param_grid=grid, cv=5)\n",
    "gs.fit(X_train, y_train)"
   ]
  },
  {
   "cell_type": "code",
   "execution_count": null,
   "metadata": {},
   "outputs": [],
   "source": [
    "gs.best_params_"
   ]
  },
  {
   "cell_type": "code",
   "execution_count": null,
   "metadata": {},
   "outputs": [],
   "source": [
    "gs = GridSearchCV(estimator=knn_model, param_grid=grid, cv=5)"
   ]
  },
  {
   "cell_type": "code",
   "execution_count": null,
   "metadata": {},
   "outputs": [],
   "source": [
    "gs.fit(X_train,y_train)"
   ]
  },
  {
   "cell_type": "code",
   "execution_count": null,
   "metadata": {},
   "outputs": [],
   "source": [
    "gs.best_params_"
   ]
  },
  {
   "cell_type": "code",
   "execution_count": null,
   "metadata": {},
   "outputs": [],
   "source": [
    "gs.best_score_"
   ]
  },
  {
   "cell_type": "code",
   "execution_count": null,
   "metadata": {},
   "outputs": [],
   "source": [
    "gs.best_estimator_.score(X_test, y_test)"
   ]
  },
  {
   "cell_type": "code",
   "execution_count": null,
   "metadata": {},
   "outputs": [],
   "source": [
    "gs.cv_results_"
   ]
  },
  {
   "cell_type": "code",
   "execution_count": null,
   "metadata": {},
   "outputs": [],
   "source": []
  },
  {
   "cell_type": "code",
   "execution_count": null,
   "metadata": {},
   "outputs": [],
   "source": []
  },
  {
   "cell_type": "code",
   "execution_count": null,
   "metadata": {},
   "outputs": [],
   "source": []
  },
  {
   "cell_type": "code",
   "execution_count": null,
   "metadata": {},
   "outputs": [],
   "source": []
  },
  {
   "cell_type": "code",
   "execution_count": null,
   "metadata": {},
   "outputs": [],
   "source": []
  },
  {
   "cell_type": "code",
   "execution_count": null,
   "metadata": {
    "scrolled": true
   },
   "outputs": [],
   "source": [
    "list_of_columns = ['funder', 'installer', 'basin', 'region_code', 'scheme_management', 'permit', 'construction_year', 'payment', 'quality_group', 'source_class', 'public_meeting'] \n",
    "X = re"
   ]
  },
  {
   "cell_type": "code",
   "execution_count": null,
   "metadata": {},
   "outputs": [],
   "source": []
  },
  {
   "cell_type": "code",
   "execution_count": null,
   "metadata": {},
   "outputs": [],
   "source": []
  },
  {
   "cell_type": "code",
   "execution_count": null,
   "metadata": {},
   "outputs": [],
   "source": []
  }
 ],
 "metadata": {
  "kernelspec": {
   "display_name": "Python (learn-env)",
   "language": "python",
   "name": "learn-env"
  },
  "language_info": {
   "codemirror_mode": {
    "name": "ipython",
    "version": 3
   },
   "file_extension": ".py",
   "mimetype": "text/x-python",
   "name": "python",
   "nbconvert_exporter": "python",
   "pygments_lexer": "ipython3",
   "version": "3.8.5"
  }
 },
 "nbformat": 4,
 "nbformat_minor": 4
}
